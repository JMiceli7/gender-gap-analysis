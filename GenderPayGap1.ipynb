{
 "cells": [
  {
   "cell_type": "code",
   "execution_count": 3,
   "id": "082196b5-2301-43e9-855b-7977c2a94e39",
   "metadata": {},
   "outputs": [],
   "source": [
    "import pandas as pd\n",
    "import seaborn as sns\n",
    "import matplotlib.pyplot as plt\n",
    "import plotly.graph_objects as go\n",
    "import us\n",
    "import plotly.express as px\n",
    "import mplcursors\n",
    "import matplotlib as mpl\n",
    "from pyspark.sql import SparkSession\n",
    "import findspark\n",
    "from pyspark.sql import functions as F\n",
    "import seaborn as sns\n",
    "from pyspark.sql.functions import mean\n",
    "\n"
   ]
  },
  {
   "cell_type": "code",
   "execution_count": 4,
   "id": "37f2bddf",
   "metadata": {},
   "outputs": [
    {
     "name": "stdout",
     "output_type": "stream",
     "text": [
      "+----+--------------------+---------+---+-----+----+--------+--------------------+----------+------+---+---+--------+--------+-------+\n",
      "|year|          state name| region_1|age|sex_1|race|  race_1|      martial status|union type|educ99|occ|ind|wkswork1|uhrswork|incwage|\n",
      "+----+--------------------+---------+---+-----+----+--------+--------------------+----------+------+---+---+--------+--------+-------+\n",
      "|1981|            Virginia|    South| 38| male|   4|   Other|Married, spouse p...|      NULL|  NULL|245|798|      52|      40|17000.0|\n",
      "|1981|             Vermont|Northeast| 58| male|   1|   White|Married, spouse p...|      NULL|  NULL|470|339|      52|      48|19000.0|\n",
      "|1981|                Utah|     West| 35| male|   1|   White|Married, spouse p...|      NULL|  NULL|715|417|      52|      43|21000.0|\n",
      "|1981|            Illinois|  Midwest| 33| male|   1|   White|            Divorced|      NULL|  NULL|485|857|      52|      60|19740.0|\n",
      "|1981|District of Columbia|    South| 45| male|   2|   Black|           Never mar|      NULL|  NULL| 13|917|      52|      40|46000.0|\n",
      "|1981|              Kansas|  Midwest| 45| male|   1|   White|Married, spouse p...|      NULL|  NULL|694|118|      52|      40| 9000.0|\n",
      "|1981|             Alabama|    South| 32| male|   1|   White|Married, spouse p...|      NULL|  NULL|751| 68|      52|      40| 9500.0|\n",
      "|1981|            Michigan|  Midwest| 30| male|   4|   Other|Married, spouse p...|      NULL|  NULL|126|858|      14|      40| 2503.0|\n",
      "|1981|               Texas|    South| 25| male|   3|Hispanic|Married, spouse p...|      NULL|  NULL|706|319|      52|      40| 7789.0|\n",
      "|1981|          California|     West| 31| male|   1|   White|           Never mar|      NULL|  NULL|325|748|      52|      40|15000.0|\n",
      "|1981|              Hawaii|     West| 51| male|   1|   White|Married, spouse p...|      NULL|  NULL|245|897|      52|      40|50000.0|\n",
      "|1981|              Oregon|     West| 39| male|   1|   White|            Divorced|      NULL|  NULL|284|649|      52|      40|11000.0|\n",
      "|1981|             Vermont|Northeast| 37| male|   1|   White|           Never mar|      NULL|  NULL|115|858|      52|      35|16500.0|\n",
      "|1981|            Illinois|  Midwest| 39| male|   1|   White|Married, spouse p...|      NULL|  NULL|441|168|      52|      60|25000.0|\n",
      "|1981|             Indiana|  Midwest| 48| male|   1|   White|Married, spouse p...|      NULL|  NULL|441|529|      52|      40|20000.0|\n",
      "|1981|           Tennessee|    South| 27| male|   1|   White|Married, spouse p...|      NULL|  NULL|690|387|      52|      45|15540.0|\n",
      "|1981|           Minnesota|  Midwest| 29| male|   1|   White|           Never mar|      NULL|  NULL|153|807|      52|      40|20000.0|\n",
      "|1981|          New Mexico|     West| 25| male|   4|   Other|Married, spouse a...|      NULL|  NULL|473|639|      52|      40| 8199.0|\n",
      "|1981|             Florida|    South| 57| male|   1|   White|Married, spouse p...|      NULL|  NULL|694|299|      52|      40|20000.0|\n",
      "|1981|        Pennsylvania|Northeast| 49| male|   1|   White|Married, spouse p...|      NULL|  NULL|640| 48|      52|      35|19000.0|\n",
      "+----+--------------------+---------+---+-----+----+--------+--------------------+----------+------+---+---+--------+--------+-------+\n",
      "only showing top 20 rows\n",
      "\n"
     ]
    }
   ],
   "source": [
    "\n",
    "findspark.init()\n",
    "# Start Spark session\n",
    "from pyspark.sql import SparkSession\n",
    "spark = SparkSession.builder.appName(\"sparkFunctions\").getOrCreate()\n",
    "from pyspark import SparkFiles\n",
    "csv_file_paths = [\n",
    "    \"Resources/CurrentPopulationSurvey_1981.csv\",\n",
    "    \"Resources/CurrentPopulationSurvey_1990.csv\",\n",
    "    \"Resources/CurrentPopulationSurvey_1999.csv\",\n",
    "    \"Resources/CurrentPopulationSurvey_2007.csv\",\n",
    "    \"Resources/CurrentPopulationSurvey_2009.csv\",\n",
    "    \"Resources/CurrentPopulationSurvey_2011.csv\",\n",
    "    \"Resources/CurrentPopulationSurvey_2013.csv\"\n",
    "]\n",
    "# Read each CSV file into a DataFrame and store them in a list\n",
    "dfs = [spark.read.csv(path, sep=\",\", header=True, ignoreLeadingWhiteSpace=True) for path in csv_file_paths]\n",
    "\n",
    "# Combine all DataFrames into a single DataFrame using union\n",
    "combined_df = dfs[0]  # Start with the first DataFrame\n",
    "for df in dfs[1:]:  # Iterate through the rest of the DataFrames\n",
    "    combined_df = combined_df.union(df)\n",
    "\n",
    "# Show the combined DataFrame\n",
    "combined_df.show()\n"
   ]
  },
  {
   "cell_type": "code",
   "execution_count": 5,
   "id": "85bc8595",
   "metadata": {},
   "outputs": [
    {
     "name": "stdout",
     "output_type": "stream",
     "text": [
      "root\n",
      " |-- year: string (nullable = true)\n",
      " |-- state name: string (nullable = true)\n",
      " |-- region_1: string (nullable = true)\n",
      " |-- age: string (nullable = true)\n",
      " |-- sex_1: string (nullable = true)\n",
      " |-- race: string (nullable = true)\n",
      " |-- race_1: string (nullable = true)\n",
      " |-- martial status: string (nullable = true)\n",
      " |-- union type: string (nullable = true)\n",
      " |-- educ99: string (nullable = true)\n",
      " |-- occ: string (nullable = true)\n",
      " |-- ind: string (nullable = true)\n",
      " |-- wkswork1: string (nullable = true)\n",
      " |-- uhrswork: string (nullable = true)\n",
      " |-- incwage: string (nullable = true)\n",
      "\n"
     ]
    }
   ],
   "source": [
    "combined_df.printSchema()\n"
   ]
  },
  {
   "cell_type": "code",
   "execution_count": 6,
   "id": "9a5a0f90",
   "metadata": {},
   "outputs": [
    {
     "name": "stdout",
     "output_type": "stream",
     "text": [
      "+----+------------------+------------------+\n",
      "| ind|            female|              male|\n",
      "+----+------------------+------------------+\n",
      "| 467|          12962.54|23124.873646209388|\n",
      "| 829|           8890.48|         38091.875|\n",
      "| 691|          20293.75|35968.230769230766|\n",
      "|1090|35828.368055555555| 47134.19626168224|\n",
      "| 800|24745.752808988764| 42802.96923076923|\n",
      "| 451|54423.444444444445|           50588.0|\n",
      "| 870|17812.933333333334|24772.436619718308|\n",
      "|1280| 33015.17931034483| 49668.95283018868|\n",
      "|1870| 45412.27272727273| 63169.59581881533|\n",
      "| 447| 13097.41935483871| 20136.73846153846|\n",
      "| 591| 15051.69366197183| 27778.49393939394|\n",
      "|6380| 35951.43265306122| 53481.00378310215|\n",
      "| 718|10491.079166666666| 17397.55744680851|\n",
      "| 307| 7942.333333333333| 16842.91304347826|\n",
      "| 747| 8633.583333333334|11055.134328358208|\n",
      "| 740|26041.570652173912| 33859.08888888889|\n",
      "| 581|          12960.22| 26189.98305084746|\n",
      "|1880|30850.708333333332| 49466.08928571428|\n",
      "|4690|         26966.576| 38917.16312056738|\n",
      "|8680|19438.301180208808|28958.987238386933|\n",
      "+----+------------------+------------------+\n",
      "only showing top 20 rows\n",
      "\n"
     ]
    }
   ],
   "source": [
    "# Group by 'industry' and 'sex_1', then calculate the mean income\n",
    "grouped_data = combined_df.groupBy(['ind', 'sex_1']).agg(F.mean('incwage').alias('average_income'))\n",
    "\n",
    "# Pivot to create a wide-format DataFrame\n",
    "industries = grouped_data.groupBy('ind').pivot('sex_1').agg(F.first('average_income'))\n",
    "\n",
    "# Show the final output\n",
    "industries.show()\n",
    "\n"
   ]
  },
  {
   "cell_type": "code",
   "execution_count": 7,
   "id": "9e62b031",
   "metadata": {},
   "outputs": [
    {
     "data": {
      "image/png": "[encoded data removed]",
      "text/plain": [
       "<Figure size 1000x600 with 1 Axes>"
      ]
     },
     "metadata": {},
     "output_type": "display_data"
    }
   ],
   "source": [
    "male_data = combined_df[combined_df['sex_1'] == 'male']\n",
    "female_data = combined_df[combined_df['sex_1'] == 'female']\n",
    "\n",
    "# First, calculate average salary for males and females grouped by year\n",
    "avg_salary_male_year = male_data.groupBy('year').agg({'incwage': 'mean'}).withColumnRenamed('avg(incwage)', 'avg_salary')\n",
    "avg_salary_female_year = female_data.groupBy('year').agg({'incwage': 'mean'}).withColumnRenamed('avg(incwage)', 'avg_salary')\n",
    "\n",
    "# Convert the results to Pandas DataFrames for plotting\n",
    "avg_salary_male_year_pd = avg_salary_male_year.toPandas()\n",
    "avg_salary_female_year_pd = avg_salary_female_year.toPandas()\n",
    "\n",
    "# Plotting\n",
    "plt.figure(figsize=(10, 6))\n",
    "plt.plot(avg_salary_male_year_pd['year'], avg_salary_male_year_pd['avg_salary'], label='Male', color='blue', marker='o')\n",
    "plt.plot(avg_salary_female_year_pd['year'], avg_salary_female_year_pd['avg_salary'], label='Female', color='pink', marker='o')\n",
    "\n",
    "# Add labels and title\n",
    "plt.xlabel('Year')\n",
    "plt.ylabel('Average Salary')\n",
    "plt.title('Gender Pay Gap Over Time')\n",
    "plt.legend()\n",
    "\n",
    "# Show the plot\n",
    "plt.grid(True)\n",
    "plt.show()\n"
   ]
  },
  {
   "cell_type": "code",
   "execution_count": 8,
   "id": "9e914387",
   "metadata": {},
   "outputs": [
    {
     "data": {
      "image/png": "[encoded data removed]",
      "text/plain": [
       "<Figure size 1000x600 with 2 Axes>"
      ]
     },
     "metadata": {},
     "output_type": "display_data"
    }
   ],
   "source": [
    "# Merge the male and female salary dataframes on the 'year' column\n",
    "merged_df = avg_salary_male_year_pd.merge(avg_salary_female_year_pd, on='year', suffixes=('_male', '_female'))\n",
    "\n",
    "# Calculate the percentage pay gap\n",
    "merged_df['pay_gap_percentage'] = ((merged_df['avg_salary_male'] - merged_df['avg_salary_female']) / merged_df['avg_salary_male']) * 100\n",
    "\n",
    "# Plotting\n",
    "plt.figure(figsize=(10, 6))\n",
    "\n",
    "# Plot the average salary for males and females\n",
    "plt.plot(merged_df['year'], merged_df['avg_salary_male'], label='Male Avg Salary', color='blue', marker='o')\n",
    "plt.plot(merged_df['year'], merged_df['avg_salary_female'], label='Female Avg Salary', color='pink', marker='o')\n",
    "\n",
    "# Add secondary y-axis for the pay gap percentage\n",
    "ax2 = plt.gca().twinx()  # Create a secondary axis\n",
    "ax2.plot(merged_df['year'], merged_df['pay_gap_percentage'], label='Pay Gap (%)', color='red', marker='x', linestyle='--')\n",
    "\n",
    "# Add labels and title\n",
    "plt.xlabel('Year')\n",
    "plt.ylabel('Average Salary')\n",
    "ax2.set_ylabel('Pay Gap (%)')\n",
    "plt.title('Gender Pay Gap Over Time')\n",
    "\n",
    "# Add legends for both plots\n",
    "plt.legend(loc='upper left')\n",
    "ax2.legend(loc='upper right')\n",
    "\n",
    "# Show the plot with grid\n",
    "plt.grid(True)\n",
    "plt.show()\n"
   ]
  },
  {
   "cell_type": "code",
   "execution_count": 9,
   "id": "8a26b2b0",
   "metadata": {},
   "outputs": [
    {
     "name": "stderr",
     "output_type": "stream",
     "text": [
      "                                                                                \r"
     ]
    },
    {
     "data": {
      "image/png": "[encoded data removed]",
      "text/plain": [
       "<Figure size 1000x600 with 1 Axes>"
      ]
     },
     "metadata": {},
     "output_type": "display_data"
    }
   ],
   "source": [
    "industries = combined_df.groupBy(['ind', 'sex_1']).agg(F.mean('incwage').alias('avg_salary'))\n",
    "\n",
    "# Pivot the DataFrame to get male and female salaries in separate columns\n",
    "industries_pivoted = industries.groupBy('ind').pivot('sex_1').agg(F.first('avg_salary')).na.fill(0)\n",
    "\n",
    "# Step 3: Calculate total salary (sum of male and female average salaries) and get top 10 industries\n",
    "industries_pivoted = industries_pivoted.withColumn('total_salary', industries_pivoted['male'] + industries_pivoted['female'])\n",
    "top_10_industries = industries_pivoted.orderBy('total_salary', ascending=False).limit(10)\n",
    "\n",
    "# Convert to Pandas DataFrame for plotting\n",
    "top_10_industries_pd = top_10_industries.toPandas()\n",
    "\n",
    "# Step 4: Plot the top 10 industries with a stacked bar chart\n",
    "top_10_industries_pd.set_index('ind')[['male', 'female']].plot(kind='bar', stacked=False, figsize=(10, 6), color=['blue', 'pink'])\n",
    "\n",
    "# Add labels and title\n",
    "plt.title('Top 10 Industries by Gender Pay')\n",
    "plt.xlabel('Industry')\n",
    "plt.ylabel('Average Salary')\n",
    "plt.legend(['Male', 'Female'], loc='upper right')\n",
    "plt.grid(True)\n",
    "\n",
    "# Show the plot\n",
    "plt.tight_layout()\n",
    "plt.show()"
   ]
  },
  {
   "cell_type": "code",
   "execution_count": 10,
   "id": "fcba4cbd",
   "metadata": {},
   "outputs": [
    {
     "data": {
      "image/png": "[encoded data removed]",
      "text/plain": [
       "<Figure size 1000x600 with 1 Axes>"
      ]
     },
     "metadata": {},
     "output_type": "display_data"
    }
   ],
   "source": [
    "# Group data by industry and gender, and calculate the mean income wage\n",
    "industries = (combined_df\n",
    "              .groupBy('ind', 'sex_1')\n",
    "              .agg(F.mean('incwage').alias('avg_income'))\n",
    "              .groupBy('ind')\n",
    "              .pivot('sex_1')\n",
    "              .agg(F.first('avg_income')))\n",
    "\n",
    "#Calculate the gender pay gap (difference between male and female average salary)\n",
    "industries = industries.withColumn('pay_gap', industries['male'] - industries['female'])\n",
    "\n",
    "#Sort the industries by pay gap and select the top 10\n",
    "top_10_industries = industries.orderBy('pay_gap', ascending=False).limit(10)\n",
    "\n",
    "#Collect the data for plotting\n",
    "top_10_industries_pd = top_10_industries.toPandas()\n",
    "\n",
    "#Plot the top 10 industries with a bar chart\n",
    "ax = top_10_industries_pd[['male', 'female']].plot(kind='bar', stacked=False, figsize=(10, 6), color=['blue', 'pink'])\n",
    "\n",
    "# Adding data labels\n",
    "for p in ax.patches:\n",
    "    ax.annotate(f'{p.get_height():,.0f}', \n",
    "                (p.get_x() + p.get_width() / 2., p.get_height()), \n",
    "                ha='center', va='bottom', fontsize=10, color='black', rotation=0)\n",
    "\n",
    "# Add labels and title\n",
    "plt.title('Top 10 Industries by Gender Pay Gap')\n",
    "plt.xlabel('Industry')\n",
    "plt.ylabel('Average Salary')\n",
    "plt.legend(['Male', 'Female'], loc='upper right')\n",
    "plt.grid(True)\n",
    "\n",
    "# Show the plot\n",
    "plt.tight_layout()\n",
    "plt.show()"
   ]
  },
  {
   "cell_type": "code",
   "execution_count": 11,
   "id": "2cd580e0",
   "metadata": {},
   "outputs": [
    {
     "data": {
      "application/vnd.plotly.v1+json": {
       "config": {
        "plotlyServerURL": "https://plot.ly"
       },
       "data": [
        {
         "hovertemplate": "Industry: %{x}<br>Male Salary: %{y}<extra></extra>",
         "marker": {
          "color": "blue"
         },
         "name": "Male Salary",
         "type": "bar",
         "x": [
          "7970",
          "812",
          "7270",
          "7990",
          "7980",
          "821",
          "6970",
          "8070",
          "7280",
          "6675"
         ],
         "y": [
          177808.64227642276,
          125768.6091954023,
          157311.57402234638,
          108210.55555555556,
          116902.81521739131,
          90782.75,
          131493.54453441297,
          87260.36363636363,
          95585.38173302107,
          101500
         ]
        },
        {
         "hovertemplate": "Industry: %{x}<br>Female Salary: %{y}<extra></extra>",
         "marker": {
          "color": "pink"
         },
         "name": "Female Salary",
         "type": "bar",
         "x": [
          "7970",
          "812",
          "7270",
          "7990",
          "7980",
          "821",
          "6970",
          "8070",
          "7280",
          "6675"
         ],
         "y": [
          41798.893586005834,
          22622.90055248619,
          57037.51803948264,
          25127.008547008547,
          35180.47818930041,
          16812.809523809523,
          67937.39040207522,
          28301.1572327044,
          44034.9742002064,
          50700
         ]
        }
       ],
       "layout": {
        "barmode": "group",
        "hovermode": "x unified",
        "template": {
         "data": {
          "bar": [
           {
            "error_x": {
             "color": "#2a3f5f"
            },
            "error_y": {
             "color": "#2a3f5f"
            },
            "marker": {
             "line": {
              "color": "#E5ECF6",
              "width": 0.5
             },
             "pattern": {
              "fillmode": "overlay",
              "size": 10,
              "solidity": 0.2
             }
            },
            "type": "bar"
           }
          ],
          "barpolar": [
           {
            "marker": {
             "line": {
              "color": "#E5ECF6",
              "width": 0.5
             },
             "pattern": {
              "fillmode": "overlay",
              "size": 10,
              "solidity": 0.2
             }
            },
            "type": "barpolar"
           }
          ],
          "carpet": [
           {
            "aaxis": {
             "endlinecolor": "#2a3f5f",
             "gridcolor": "white",
             "linecolor": "white",
             "minorgridcolor": "white",
             "startlinecolor": "#2a3f5f"
            },
            "baxis": {
             "endlinecolor": "#2a3f5f",
             "gridcolor": "white",
             "linecolor": "white",
             "minorgridcolor": "white",
             "startlinecolor": "#2a3f5f"
            },
            "type": "carpet"
           }
          ],
          "choropleth": [
           {
            "colorbar": {
             "outlinewidth": 0,
             "ticks": ""
            },
            "type": "choropleth"
           }
          ],
          "contour": [
           {
            "colorbar": {
             "outlinewidth": 0,
             "ticks": ""
            },
            "colorscale": [
             [
              0,
              "#0d0887"
             ],
             [
              0.1111111111111111,
              "#46039f"
             ],
             [
              0.2222222222222222,
              "#7201a8"
             ],
             [
              0.3333333333333333,
              "#9c179e"
             ],
             [
              0.4444444444444444,
              "#bd3786"
             ],
             [
              0.5555555555555556,
              "#d8576b"
             ],
             [
              0.6666666666666666,
              "#ed7953"
             ],
             [
              0.7777777777777778,
              "#fb9f3a"
             ],
             [
              0.8888888888888888,
              "#fdca26"
             ],
             [
              1,
              "#f0f921"
             ]
            ],
            "type": "contour"
           }
          ],
          "contourcarpet": [
           {
            "colorbar": {
             "outlinewidth": 0,
             "ticks": ""
            },
            "type": "contourcarpet"
           }
          ],
          "heatmap": [
           {
            "colorbar": {
             "outlinewidth": 0,
             "ticks": ""
            },
            "colorscale": [
             [
              0,
              "#0d0887"
             ],
             [
              0.1111111111111111,
              "#46039f"
             ],
             [
              0.2222222222222222,
              "#7201a8"
             ],
             [
              0.3333333333333333,
              "#9c179e"
             ],
             [
              0.4444444444444444,
              "#bd3786"
             ],
             [
              0.5555555555555556,
              "#d8576b"
             ],
             [
              0.6666666666666666,
              "#ed7953"
             ],
             [
              0.7777777777777778,
              "#fb9f3a"
             ],
             [
              0.8888888888888888,
              "#fdca26"
             ],
             [
              1,
              "#f0f921"
             ]
            ],
            "type": "heatmap"
           }
          ],
          "heatmapgl": [
           {
            "colorbar": {
             "outlinewidth": 0,
             "ticks": ""
            },
            "colorscale": [
             [
              0,
              "#0d0887"
             ],
             [
              0.1111111111111111,
              "#46039f"
             ],
             [
              0.2222222222222222,
              "#7201a8"
             ],
             [
              0.3333333333333333,
              "#9c179e"
             ],
             [
              0.4444444444444444,
              "#bd3786"
             ],
             [
              0.5555555555555556,
              "#d8576b"
             ],
             [
              0.6666666666666666,
              "#ed7953"
             ],
             [
              0.7777777777777778,
              "#fb9f3a"
             ],
             [
              0.8888888888888888,
              "#fdca26"
             ],
             [
              1,
              "#f0f921"
             ]
            ],
            "type": "heatmapgl"
           }
          ],
          "histogram": [
           {
            "marker": {
             "pattern": {
              "fillmode": "overlay",
              "size": 10,
              "solidity": 0.2
             }
            },
            "type": "histogram"
           }
          ],
          "histogram2d": [
           {
            "colorbar": {
             "outlinewidth": 0,
             "ticks": ""
            },
            "colorscale": [
             [
              0,
              "#0d0887"
             ],
             [
              0.1111111111111111,
              "#46039f"
             ],
             [
              0.2222222222222222,
              "#7201a8"
             ],
             [
              0.3333333333333333,
              "#9c179e"
             ],
             [
              0.4444444444444444,
              "#bd3786"
             ],
             [
              0.5555555555555556,
              "#d8576b"
             ],
             [
              0.6666666666666666,
              "#ed7953"
             ],
             [
              0.7777777777777778,
              "#fb9f3a"
             ],
             [
              0.8888888888888888,
              "#fdca26"
             ],
             [
              1,
              "#f0f921"
             ]
            ],
            "type": "histogram2d"
           }
          ],
          "histogram2dcontour": [
           {
            "colorbar": {
             "outlinewidth": 0,
             "ticks": ""
            },
            "colorscale": [
             [
              0,
              "#0d0887"
             ],
             [
              0.1111111111111111,
              "#46039f"
             ],
             [
              0.2222222222222222,
              "#7201a8"
             ],
             [
              0.3333333333333333,
              "#9c179e"
             ],
             [
              0.4444444444444444,
              "#bd3786"
             ],
             [
              0.5555555555555556,
              "#d8576b"
             ],
             [
              0.6666666666666666,
              "#ed7953"
             ],
             [
              0.7777777777777778,
              "#fb9f3a"
             ],
             [
              0.8888888888888888,
              "#fdca26"
             ],
             [
              1,
              "#f0f921"
             ]
            ],
            "type": "histogram2dcontour"
           }
          ],
          "mesh3d": [
           {
            "colorbar": {
             "outlinewidth": 0,
             "ticks": ""
            },
            "type": "mesh3d"
           }
          ],
          "parcoords": [
           {
            "line": {
             "colorbar": {
              "outlinewidth": 0,
              "ticks": ""
             }
            },
            "type": "parcoords"
           }
          ],
          "pie": [
           {
            "automargin": true,
            "type": "pie"
           }
          ],
          "scatter": [
           {
            "fillpattern": {
             "fillmode": "overlay",
             "size": 10,
             "solidity": 0.2
            },
            "type": "scatter"
           }
          ],
          "scatter3d": [
           {
            "line": {
             "colorbar": {
              "outlinewidth": 0,
              "ticks": ""
             }
            },
            "marker": {
             "colorbar": {
              "outlinewidth": 0,
              "ticks": ""
             }
            },
            "type": "scatter3d"
           }
          ],
          "scattercarpet": [
           {
            "marker": {
             "colorbar": {
              "outlinewidth": 0,
              "ticks": ""
             }
            },
            "type": "scattercarpet"
           }
          ],
          "scattergeo": [
           {
            "marker": {
             "colorbar": {
              "outlinewidth": 0,
              "ticks": ""
             }
            },
            "type": "scattergeo"
           }
          ],
          "scattergl": [
           {
            "marker": {
             "colorbar": {
              "outlinewidth": 0,
              "ticks": ""
             }
            },
            "type": "scattergl"
           }
          ],
          "scattermapbox": [
           {
            "marker": {
             "colorbar": {
              "outlinewidth": 0,
              "ticks": ""
             }
            },
            "type": "scattermapbox"
           }
          ],
          "scatterpolar": [
           {
            "marker": {
             "colorbar": {
              "outlinewidth": 0,
              "ticks": ""
             }
            },
            "type": "scatterpolar"
           }
          ],
          "scatterpolargl": [
           {
            "marker": {
             "colorbar": {
              "outlinewidth": 0,
              "ticks": ""
             }
            },
            "type": "scatterpolargl"
           }
          ],
          "scatterternary": [
           {
            "marker": {
             "colorbar": {
              "outlinewidth": 0,
              "ticks": ""
             }
            },
            "type": "scatterternary"
           }
          ],
          "surface": [
           {
            "colorbar": {
             "outlinewidth": 0,
             "ticks": ""
            },
            "colorscale": [
             [
              0,
              "#0d0887"
             ],
             [
              0.1111111111111111,
              "#46039f"
             ],
             [
              0.2222222222222222,
              "#7201a8"
             ],
             [
              0.3333333333333333,
              "#9c179e"
             ],
             [
              0.4444444444444444,
              "#bd3786"
             ],
             [
              0.5555555555555556,
              "#d8576b"
             ],
             [
              0.6666666666666666,
              "#ed7953"
             ],
             [
              0.7777777777777778,
              "#fb9f3a"
             ],
             [
              0.8888888888888888,
              "#fdca26"
             ],
             [
              1,
              "#f0f921"
             ]
            ],
            "type": "surface"
           }
          ],
          "table": [
           {
            "cells": {
             "fill": {
              "color": "#EBF0F8"
             },
             "line": {
              "color": "white"
             }
            },
            "header": {
             "fill": {
              "color": "#C8D4E3"
             },
             "line": {
              "color": "white"
             }
            },
            "type": "table"
           }
          ]
         },
         "layout": {
          "annotationdefaults": {
           "arrowcolor": "#2a3f5f",
           "arrowhead": 0,
           "arrowwidth": 1
          },
          "autotypenumbers": "strict",
          "coloraxis": {
           "colorbar": {
            "outlinewidth": 0,
            "ticks": ""
           }
          },
          "colorscale": {
           "diverging": [
            [
             0,
             "#8e0152"
            ],
            [
             0.1,
             "#c51b7d"
            ],
            [
             0.2,
             "#de77ae"
            ],
            [
             0.3,
             "#f1b6da"
            ],
            [
             0.4,
             "#fde0ef"
            ],
            [
             0.5,
             "#f7f7f7"
            ],
            [
             0.6,
             "#e6f5d0"
            ],
            [
             0.7,
             "#b8e186"
            ],
            [
             0.8,
             "#7fbc41"
            ],
            [
             0.9,
             "#4d9221"
            ],
            [
             1,
             "#276419"
            ]
           ],
           "sequential": [
            [
             0,
             "#0d0887"
            ],
            [
             0.1111111111111111,
             "#46039f"
            ],
            [
             0.2222222222222222,
             "#7201a8"
            ],
            [
             0.3333333333333333,
             "#9c179e"
            ],
            [
             0.4444444444444444,
             "#bd3786"
            ],
            [
             0.5555555555555556,
             "#d8576b"
            ],
            [
             0.6666666666666666,
             "#ed7953"
            ],
            [
             0.7777777777777778,
             "#fb9f3a"
            ],
            [
             0.8888888888888888,
             "#fdca26"
            ],
            [
             1,
             "#f0f921"
            ]
           ],
           "sequentialminus": [
            [
             0,
             "#0d0887"
            ],
            [
             0.1111111111111111,
             "#46039f"
            ],
            [
             0.2222222222222222,
             "#7201a8"
            ],
            [
             0.3333333333333333,
             "#9c179e"
            ],
            [
             0.4444444444444444,
             "#bd3786"
            ],
            [
             0.5555555555555556,
             "#d8576b"
            ],
            [
             0.6666666666666666,
             "#ed7953"
            ],
            [
             0.7777777777777778,
             "#fb9f3a"
            ],
            [
             0.8888888888888888,
             "#fdca26"
            ],
            [
             1,
             "#f0f921"
            ]
           ]
          },
          "colorway": [
           "#636efa",
           "#EF553B",
           "#00cc96",
           "#ab63fa",
           "#FFA15A",
           "#19d3f3",
           "#FF6692",
           "#B6E880",
           "#FF97FF",
           "#FECB52"
          ],
          "font": {
           "color": "#2a3f5f"
          },
          "geo": {
           "bgcolor": "white",
           "lakecolor": "white",
           "landcolor": "#E5ECF6",
           "showlakes": true,
           "showland": true,
           "subunitcolor": "white"
          },
          "hoverlabel": {
           "align": "left"
          },
          "hovermode": "closest",
          "mapbox": {
           "style": "light"
          },
          "paper_bgcolor": "white",
          "plot_bgcolor": "#E5ECF6",
          "polar": {
           "angularaxis": {
            "gridcolor": "white",
            "linecolor": "white",
            "ticks": ""
           },
           "bgcolor": "#E5ECF6",
           "radialaxis": {
            "gridcolor": "white",
            "linecolor": "white",
            "ticks": ""
           }
          },
          "scene": {
           "xaxis": {
            "backgroundcolor": "#E5ECF6",
            "gridcolor": "white",
            "gridwidth": 2,
            "linecolor": "white",
            "showbackground": true,
            "ticks": "",
            "zerolinecolor": "white"
           },
           "yaxis": {
            "backgroundcolor": "#E5ECF6",
            "gridcolor": "white",
            "gridwidth": 2,
            "linecolor": "white",
            "showbackground": true,
            "ticks": "",
            "zerolinecolor": "white"
           },
           "zaxis": {
            "backgroundcolor": "#E5ECF6",
            "gridcolor": "white",
            "gridwidth": 2,
            "linecolor": "white",
            "showbackground": true,
            "ticks": "",
            "zerolinecolor": "white"
           }
          },
          "shapedefaults": {
           "line": {
            "color": "#2a3f5f"
           }
          },
          "ternary": {
           "aaxis": {
            "gridcolor": "white",
            "linecolor": "white",
            "ticks": ""
           },
           "baxis": {
            "gridcolor": "white",
            "linecolor": "white",
            "ticks": ""
           },
           "bgcolor": "#E5ECF6",
           "caxis": {
            "gridcolor": "white",
            "linecolor": "white",
            "ticks": ""
           }
          },
          "title": {
           "x": 0.05
          },
          "xaxis": {
           "automargin": true,
           "gridcolor": "white",
           "linecolor": "white",
           "ticks": "",
           "title": {
            "standoff": 15
           },
           "zerolinecolor": "white",
           "zerolinewidth": 2
          },
          "yaxis": {
           "automargin": true,
           "gridcolor": "white",
           "linecolor": "white",
           "ticks": "",
           "title": {
            "standoff": 15
           },
           "zerolinecolor": "white",
           "zerolinewidth": 2
          }
         }
        },
        "title": {
         "text": "Top 10 Industries by Gender Pay Gap"
        },
        "xaxis": {
         "title": {
          "text": "Industry"
         }
        },
        "yaxis": {
         "title": {
          "text": "Average Salary"
         }
        }
       }
      }
     },
     "metadata": {},
     "output_type": "display_data"
    }
   ],
   "source": [
    "#Group by industry and gender, and calculate the average salary\n",
    "grouped_data = (combined_df\n",
    "                .groupBy('ind', 'sex_1')\n",
    "                .agg(F.mean('incwage').alias('avg_incwage')))\n",
    "\n",
    "# Pivot the DataFrame to get a wide format with genders as columns\n",
    "grouped_data = grouped_data.groupBy('ind').pivot('sex_1', ['male', 'female']).agg(F.first('avg_incwage'))\n",
    "\n",
    "#Calculate the pay gap (male salary - female salary)\n",
    "grouped_data = grouped_data.withColumn('pay_gap', grouped_data['male'] - grouped_data['female'])\n",
    "\n",
    "#Sort by the largest pay gap and select the top 10\n",
    "top_10_industries = grouped_data.sort('pay_gap', ascending=False).limit(10)\n",
    "\n",
    "#Convert to Pandas DataFrame for plotting if needed\n",
    "top_10_industries_pd = top_10_industries.toPandas()\n",
    "\n",
    "# Now you can plot using Plotly as before\n",
    "import plotly.graph_objects as go\n",
    "\n",
    "fig = go.Figure()\n",
    "\n",
    "# Add male salaries\n",
    "fig.add_trace(go.Bar(\n",
    "    x=top_10_industries_pd['ind'], \n",
    "    y=top_10_industries_pd['male'], \n",
    "    name='Male Salary',\n",
    "    marker_color='blue',\n",
    "    hovertemplate='Industry: %{x}<br>Male Salary: %{y}<extra></extra>'\n",
    "))\n",
    "\n",
    "# Add female salaries\n",
    "fig.add_trace(go.Bar(\n",
    "    x=top_10_industries_pd['ind'], \n",
    "    y=top_10_industries_pd['female'], \n",
    "    name='Female Salary',\n",
    "    marker_color='pink',\n",
    "    hovertemplate='Industry: %{x}<br>Female Salary: %{y}<extra></extra>'\n",
    "))\n",
    "\n",
    "# Customize layout\n",
    "fig.update_layout(\n",
    "    title='Top 10 Industries by Gender Pay Gap',\n",
    "    xaxis_title='Industry',\n",
    "    yaxis_title='Average Salary',\n",
    "    barmode='group',\n",
    "    hovermode='x unified'\n",
    ")\n",
    "\n",
    "# Show plot\n",
    "fig.show()"
   ]
  },
  {
   "cell_type": "code",
   "execution_count": 12,
   "id": "3d7d74d1",
   "metadata": {},
   "outputs": [
    {
     "name": "stderr",
     "output_type": "stream",
     "text": [
      "24/10/07 21:25:11 WARN SparkSession: Using an existing Spark session; only runtime SQL configurations will take effect.\n"
     ]
    },
    {
     "data": {
      "image/png": "[encoded data removed]",
      "text/plain": [
       "<Figure size 1000x600 with 1 Axes>"
      ]
     },
     "metadata": {},
     "output_type": "display_data"
    },
    {
     "name": "stdout",
     "output_type": "stream",
     "text": [
      "             female           male  Income Difference\n",
      "ind                                                  \n",
      "480   106250.000000   79010.086957       27239.913043\n",
      "6692  105894.400000   62978.260870       42916.139130\n",
      "3360   80894.356688   99728.116402      -18833.759714\n",
      "893    76135.181818   22340.800000       53794.381818\n",
      "6490   73356.338710  106667.306306      -33310.967597\n",
      "2190   72755.410188   94057.342380      -21301.932192\n",
      "7380   71781.144197   91735.759137      -19954.614940\n",
      "3590   69574.243590   86446.058052      -16871.814463\n",
      "6970   67937.390402  131493.544534      -63556.154132\n",
      "6672   67730.160000  106880.795918      -39150.635918\n"
     ]
    }
   ],
   "source": [
    "# Create Spark session\n",
    "spark = SparkSession.builder.appName(\"Gender Pay Gap\").getOrCreate()\n",
    "\n",
    "# Load the DataFrame (replace with your actual DataFrame path)\n",
    "# combined_df = spark.read.csv(\"your_file.csv\", header=True, inferSchema=True)\n",
    "\n",
    "#Group by industry and gender, and calculate the average salary\n",
    "industry_income = (combined_df\n",
    "                   .groupBy('ind', 'sex_1')\n",
    "                   .agg(mean('incwage').alias('mean_income')))\n",
    "\n",
    "# Pivot the DataFrame to get separate columns for Male and Female\n",
    "industry_income_pivot = industry_income.groupBy('ind').pivot('sex_1').agg(mean('mean_income'))\n",
    "\n",
    "#Handle missing values (if necessary)\n",
    "industry_income_pivot = industry_income_pivot.fillna(0)\n",
    "\n",
    "#Convert to Pandas DataFrame for plotting\n",
    "industry_income_pd = industry_income_pivot.toPandas()\n",
    "\n",
    "#Calculate average salary for male and female and add a column for the difference\n",
    "industry_income_pd['Income Difference'] = industry_income_pd['female'] - industry_income_pd['male']\n",
    "\n",
    "#Sort the DataFrame by average female salary (or male salary) and get the top 10\n",
    "top_10_industries = industry_income_pd.sort_values(by='female', ascending=False).head(10)\n",
    "\n",
    "#Plotting the top 10 industries\n",
    "top_10_industries.set_index('ind', inplace=True)  # Set 'ind' as index for better plotting\n",
    "top_10_industries[['male', 'female']].plot(kind='bar', figsize=(10, 6), color=['blue', 'pink'])\n",
    "\n",
    "# Add labels and title\n",
    "plt.title('Top 10 Industries by Average Salary')\n",
    "plt.xlabel('Industry')\n",
    "plt.ylabel('Average Salary')\n",
    "plt.xticks(rotation=45)\n",
    "plt.grid(axis='y')\n",
    "\n",
    "# Show the plot\n",
    "plt.tight_layout()\n",
    "plt.show()\n",
    "\n",
    "# Optional: Display the top 10 DataFrame\n",
    "print(top_10_industries)"
   ]
  },
  {
   "cell_type": "code",
   "execution_count": 13,
   "id": "e83baa60",
   "metadata": {},
   "outputs": [
    {
     "name": "stdout",
     "output_type": "stream",
     "text": [
      "root\n",
      " |-- year: string (nullable = true)\n",
      " |-- state name: string (nullable = true)\n",
      " |-- region_1: string (nullable = true)\n",
      " |-- age: string (nullable = true)\n",
      " |-- sex_1: string (nullable = true)\n",
      " |-- race: string (nullable = true)\n",
      " |-- race_1: string (nullable = true)\n",
      " |-- martial status: string (nullable = true)\n",
      " |-- union type: string (nullable = true)\n",
      " |-- educ99: string (nullable = true)\n",
      " |-- occ: string (nullable = true)\n",
      " |-- ind: string (nullable = true)\n",
      " |-- wkswork1: string (nullable = true)\n",
      " |-- uhrswork: string (nullable = true)\n",
      " |-- incwage: string (nullable = true)\n",
      "\n"
     ]
    }
   ],
   "source": [
    "combined_df.printSchema()"
   ]
  },
  {
   "cell_type": "code",
   "execution_count": 14,
   "id": "ba2afcc0",
   "metadata": {},
   "outputs": [
    {
     "data": {
      "text/plain": [
       "Row(ind='467', male=23124.873646209388, female=12962.54, pay_gap=10162.333646209387)"
      ]
     },
     "execution_count": 14,
     "metadata": {},
     "output_type": "execute_result"
    }
   ],
   "source": [
    "grouped_data.head()"
   ]
  },
  {
   "cell_type": "code",
   "execution_count": 15,
   "id": "f4cb7a6c",
   "metadata": {},
   "outputs": [
    {
     "name": "stdout",
     "output_type": "stream",
     "text": [
      "root\n",
      " |-- year: string (nullable = true)\n",
      " |-- state name: string (nullable = true)\n",
      " |-- region_1: string (nullable = true)\n",
      " |-- age: string (nullable = true)\n",
      " |-- sex_1: string (nullable = true)\n",
      " |-- race: string (nullable = true)\n",
      " |-- race_1: string (nullable = true)\n",
      " |-- martial status: string (nullable = true)\n",
      " |-- union type: string (nullable = true)\n",
      " |-- educ99: string (nullable = true)\n",
      " |-- occ: string (nullable = true)\n",
      " |-- ind: string (nullable = true)\n",
      " |-- wkswork1: string (nullable = true)\n",
      " |-- uhrswork: string (nullable = true)\n",
      " |-- incwage: string (nullable = true)\n",
      "\n"
     ]
    }
   ],
   "source": [
    "combined_df.printSchema()"
   ]
  },
  {
   "cell_type": "code",
   "execution_count": 16,
   "id": "886b7752",
   "metadata": {},
   "outputs": [
    {
     "name": "stdout",
     "output_type": "stream",
     "text": [
      "<class 'pyspark.sql.dataframe.DataFrame'>\n",
      "root\n",
      " |-- year: string (nullable = true)\n",
      " |-- state name: string (nullable = true)\n",
      " |-- region_1: string (nullable = true)\n",
      " |-- age: string (nullable = true)\n",
      " |-- sex_1: string (nullable = true)\n",
      " |-- race: string (nullable = true)\n",
      " |-- race_1: string (nullable = true)\n",
      " |-- martial status: string (nullable = true)\n",
      " |-- union type: string (nullable = true)\n",
      " |-- educ99: string (nullable = true)\n",
      " |-- occ: string (nullable = true)\n",
      " |-- ind: string (nullable = true)\n",
      " |-- wkswork1: string (nullable = true)\n",
      " |-- uhrswork: string (nullable = true)\n",
      " |-- incwage: string (nullable = true)\n",
      "\n",
      "+----+--------------------+---------+---+-----+----+------+--------------------+----------+------+---+---+--------+--------+-------+\n",
      "|year|          state name| region_1|age|sex_1|race|race_1|      martial status|union type|educ99|occ|ind|wkswork1|uhrswork|incwage|\n",
      "+----+--------------------+---------+---+-----+----+------+--------------------+----------+------+---+---+--------+--------+-------+\n",
      "|1981|            Virginia|    South| 38| male|   4| Other|Married, spouse p...|      NULL|  NULL|245|798|      52|      40|17000.0|\n",
      "|1981|             Vermont|Northeast| 58| male|   1| White|Married, spouse p...|      NULL|  NULL|470|339|      52|      48|19000.0|\n",
      "|1981|                Utah|     West| 35| male|   1| White|Married, spouse p...|      NULL|  NULL|715|417|      52|      43|21000.0|\n",
      "|1981|            Illinois|  Midwest| 33| male|   1| White|            Divorced|      NULL|  NULL|485|857|      52|      60|19740.0|\n",
      "|1981|District of Columbia|    South| 45| male|   2| Black|           Never mar|      NULL|  NULL| 13|917|      52|      40|46000.0|\n",
      "+----+--------------------+---------+---+-----+----+------+--------------------+----------+------+---+---+--------+--------+-------+\n",
      "only showing top 5 rows\n",
      "\n"
     ]
    },
    {
     "data": {
      "image/png": "[encoded data removed]",
      "text/plain": [
       "<Figure size 1500x1000 with 2 Axes>"
      ]
     },
     "metadata": {},
     "output_type": "display_data"
    }
   ],
   "source": [
    "print(type(combined_df))\n",
    "\n",
    "# If it's a Pandas DataFrame, convert it to a PySpark DataFrame\n",
    "if isinstance(combined_df, pd.DataFrame):\n",
    "    combined_df = spark.createDataFrame(combined_df)\n",
    "\n",
    "# Show the schema of grouped_data to check for available columns\n",
    "combined_df.printSchema()\n",
    "combined_df.show(5)\n",
    "\n",
    "# Group the data to calculate mean income by state and race\n",
    "mean_data = combined_df.groupBy('state name', 'race_1').agg(F.mean('incwage').alias('mean')).toPandas()\n",
    "\n",
    "# Pivot the data to get mean income by race and state\n",
    "heatmap_data = mean_data.pivot(index='state name', columns='race_1', values='mean')\n",
    "\n",
    "# Calculate the overall mean income per state (mean across all races)\n",
    "heatmap_data['Overall_Mean'] = heatmap_data.mean(axis=1)\n",
    "\n",
    "# Sort the states by the overall mean income in descending order\n",
    "heatmap_data_sorted = heatmap_data.sort_values(by='Overall_Mean', ascending=False).drop(columns='Overall_Mean')\n",
    "\n",
    "# Create a heatmap with annotations\n",
    "plt.figure(figsize=(15, 10))\n",
    "sns.heatmap(heatmap_data_sorted, cmap='coolwarm', annot=True, fmt=\".2f\", linewidths=0.5, annot_kws={\"size\": 10})\n",
    "plt.title('Mean Income by Race and State')\n",
    "plt.ylabel('State')\n",
    "plt.xlabel('Race')\n",
    "plt.xticks(rotation=45, ha='right')\n",
    "plt.tight_layout()\n",
    "plt.show()\n"
   ]
  },
  {
   "cell_type": "code",
   "execution_count": 17,
   "id": "41265eaf",
   "metadata": {},
   "outputs": [
    {
     "data": {
      "application/vnd.plotly.v1+json": {
       "config": {
        "plotlyServerURL": "https://plot.ly"
       },
       "data": [
        {
         "customdata": [
          [
           "467",
           -10162.333646209387
          ],
          [
           "829",
           -29201.395
          ],
          [
           "691",
           -15674.480769230766
          ],
          [
           "1090",
           -11305.828206126687
          ],
          [
           "800",
           -18057.216421780467
          ],
          [
           "451",
           3835.4444444444453
          ],
          [
           "870",
           -6959.503286384974
          ],
          [
           "1280",
           -16653.773519843853
          ],
          [
           "1870",
           -17757.323091542603
          ],
          [
           "447",
           -7039.3191066997515
          ],
          [
           "591",
           -12726.800277422108
          ],
          [
           "6380",
           -17529.571130040924
          ],
          [
           "718",
           -6906.478280141844
          ],
          [
           "307",
           -8900.579710144928
          ],
          [
           "747",
           -2421.5509950248743
          ],
          [
           "740",
           -7817.5182367149755
          ],
          [
           "581",
           -13229.76305084746
          ],
          [
           "1880",
           -18615.38095238095
          ],
          [
           "4690",
           -11950.587120567376
          ],
          [
           "8680",
           -9520.686058178126
          ],
          [
           "4980",
           -16964.548387096773
          ],
          [
           "647",
           -6487.242105263158
          ],
          [
           "470",
           -14232.490555037315
          ],
          [
           "442",
           -15930.558823529413
          ],
          [
           "711",
           -20581.833635167688
          ],
          [
           "272",
           -6904.8499999999985
          ],
          [
           "462",
           -11546.75060532688
          ],
          [
           "8370",
           -11448.566404130426
          ],
          [
           "2980",
           -14890.728937028776
          ],
          [
           "448",
           -8492.791320767556
          ],
          [
           "282",
           -10563.83747220163
          ],
          [
           "700",
           -27302.63403390653
          ],
          [
           "232",
           -13506.882352941175
          ],
          [
           "7980",
           -81722.3370280909
          ],
          [
           "5170",
           -22030.978827233375
          ],
          [
           "862",
           -6031.266112266112
          ],
          [
           "851",
           -13939.526785714286
          ],
          [
           "3570",
           -19215.747543901998
          ],
          [
           "317",
           -6060.008077226163
          ],
          [
           "727",
           -13451.542857142858
          ],
          [
           "132",
           -9037.539104477613
          ],
          [
           "3490",
           -22201.284732344808
          ],
          [
           "388",
           -4701.6
          ],
          [
           "428",
           -9834.714285714286
          ],
          [
           "521",
           -16407.480065627566
          ],
          [
           "200",
           -20265.402327935222
          ],
          [
           "9380",
           -30132.15387537073
          ],
          [
           "1290",
           -18665.644501278774
          ],
          [
           "4580",
           -16488.180751400425
          ],
          [
           "672",
           -13669.623076923075
          ],
          [
           "101",
           -4789.104619565216
          ],
          [
           "11",
           -6625.777777777777
          ],
          [
           "279",
           -6892.602443609023
          ],
          [
           "422",
           -16129.11904761905
          ],
          [
           "6090",
           -44706.447492163
          ],
          [
           "138",
           -9164.315151515153
          ],
          [
           "387",
           -7052.626629647513
          ],
          [
           "351",
           -18131.68157200389
          ],
          [
           "361",
           -9624.045454545456
          ],
          [
           "6280",
           -1279.060869565219
          ],
          [
           "788",
           1281.5714285714294
          ],
          [
           "69",
           -9708.346370047862
          ],
          [
           "419",
           -12620.006396588486
          ],
          [
           "309",
           -2531.1000000000004
          ],
          [
           "2180",
           -26164.265306122456
          ],
          [
           "112",
           -10953.986013986014
          ],
          [
           "42",
           -10851.610920148072
          ],
          [
           "863",
           -17428.023529411767
          ],
          [
           "1470",
           -20921.769230769234
          ],
          [
           "7280",
           -51550.40753281467
          ],
          [
           "468",
           -8355.989340439704
          ],
          [
           "890",
           -36800.48695652174
          ],
          [
           "348",
           -9054.888888888887
          ],
          [
           "308",
           -4374.875
          ],
          [
           "512",
           -9016.651416828896
          ],
          [
           "710",
           -37952.89470194857
          ],
          [
           "4370",
           -17313.631267605633
          ],
          [
           "3090",
           -25747.122181818188
          ],
          [
           "478",
           -1074.4171622769754
          ],
          [
           "541",
           -13113.130490956071
          ],
          [
           "2090",
           -521.25
          ],
          [
           "8790",
           -7445.214616222103
          ],
          [
           "7780",
           -22670.340360122973
          ],
          [
           "432",
           -12274.975024975025
          ],
          [
           "30",
           -13498.761904761906
          ],
          [
           "910",
           -11576.080301883863
          ],
          [
           "880",
           -12886.326174608812
          ],
          [
           "652",
           -12346.323381896344
          ],
          [
           "878",
           -5322.828710644677
          ],
          [
           "3580",
           -21008.297090992746
          ],
          [
           "737",
           -14987.924501424503
          ],
          [
           "389",
           -6831.940446650124
          ],
          [
           "287",
           -8037.48905723906
          ],
          [
           "789",
           -2425
          ],
          [
           "670",
           -14934.895433860002
          ],
          [
           "5280",
           -18619.055223880594
          ],
          [
           "162",
           -10442.892974238875
          ],
          [
           "139",
           -10780.714285714286
          ],
          [
           "310",
           -24423.675889328064
          ],
          [
           "250",
           -11459.422774327122
          ],
          [
           "7080",
           -8745.041147044314
          ],
          [
           "559",
           -7433.1923076923085
          ],
          [
           "379",
           -9212.294258373207
          ],
          [
           "352",
           -14885.142054551274
          ],
          [
           "782",
           7602.414141414141
          ],
          [
           "160",
           -14755.142857142855
          ],
          [
           "787",
           -9261.241666666669
          ],
          [
           "258",
           -8237.137755102041
          ],
          [
           "479",
           -9252.375
          ],
          [
           "5592",
           -20137.100628930817
          ],
          [
           "2380",
           552.8785046728954
          ],
          [
           "888",
           -14318.25279789335
          ],
          [
           "28",
           6032.226641414141
          ],
          [
           "4080",
           -25829.748251748257
          ],
          [
           "8970",
           428.7635206786872
          ],
          [
           "570",
           -20627.057738744355
          ],
          [
           "808",
           -7198.877777777778
          ],
          [
           "539",
           -11116.732517482516
          ],
          [
           "628",
           -9185.285547132498
          ],
          [
           "199",
           -8257.367676767675
          ],
          [
           "2570",
           -9153.541935483874
          ],
          [
           "917",
           -9924.323641801602
          ],
          [
           "730",
           -17294.968426501033
          ],
          [
           "663",
           -7673.632352941175
          ],
          [
           "3080",
           -18876.747457088364
          ],
          [
           "712",
           -11418.343909522973
          ],
          [
           "3770",
           -11285.014245014248
          ],
          [
           "7490",
           -25663.74264448614
          ],
          [
           "9470",
           -16701.802655873966
          ],
          [
           "1070",
           -14447.601538091803
          ],
          [
           "742",
           -13403.647561086385
          ],
          [
           "251",
           -6275.972487366649
          ],
          [
           "7590",
           -20176.135297624576
          ],
          [
           "807",
           -6795.8738095238095
          ],
          [
           "868",
           -25828.023529411767
          ],
          [
           "171",
           -13410.10755268675
          ],
          [
           "187",
           -9879.93630977571
          ],
          [
           "441",
           -14356.206930091183
          ],
          [
           "8290",
           -4906.772763770678
          ],
          [
           "2390",
           897.6404371584722
          ],
          [
           "7460",
           -33408.856410730805
          ],
          [
           "7370",
           -6860.02402022756
          ],
          [
           "410",
           -10901.602890826874
          ],
          [
           "9290",
           -10880.578732972694
          ],
          [
           "7670",
           -24993.64951941561
          ],
          [
           "188",
           -10906.315789473685
          ],
          [
           "298",
           3162.4141414141413
          ],
          [
           "528",
           -10437.505882352943
          ],
          [
           "749",
           -3475.8716707021795
          ],
          [
           "5190",
           -21606.645797364832
          ],
          [
           "3360",
           -18833.759714218308
          ],
          [
           "47",
           -7513.378151260502
          ],
          [
           "629",
           -10556.666666666666
          ],
          [
           "568",
           -12082.684754521964
          ],
          [
           "697",
           -10154.522462831286
          ],
          [
           "3670",
           -572.2597402597385
          ],
          [
           "107",
           -3441.2037037037044
          ],
          [
           "110",
           -14345.718837863165
          ],
          [
           "892",
           -37645.51718213059
          ],
          [
           "372",
           -17349.892843547772
          ],
          [
           "9080",
           -13808.45035609552
          ],
          [
           "4570",
           -15702.713650793652
          ],
          [
           "1770",
           -45122.85172413793
          ],
          [
           "390",
           -37896.00974634512
          ],
          [
           "6695",
           -33709.48512777544
          ],
          [
           "527",
           -8629.766569993635
          ],
          [
           "560",
           -10815.443718228034
          ],
          [
           "6675",
           -50800
          ],
          [
           "4390",
           -20500.605555555558
          ],
          [
           "8780",
           -6517.67806505421
          ],
          [
           "609",
           -10300.906462430888
          ],
          [
           "179",
           -6940.987330316742
          ],
          [
           "850",
           -13816.768030718686
          ],
          [
           "9090",
           -6052.360139318884
          ],
          [
           "8580",
           -18126.501666666663
          ],
          [
           "4560",
           -8887.407948717948
          ],
          [
           "408",
           -8991.975359657179
          ],
          [
           "440",
           -12218.366798318257
          ],
          [
           "6670",
           -9189.758224904763
          ],
          [
           "3960",
           -30840.9176431343
          ],
          [
           "7770",
           -2169.6012298091046
          ],
          [
           "7970",
           -136009.74869041692
          ],
          [
           "248",
           -11001.175555555554
          ],
          [
           "327",
           -8603.847902097903
          ],
          [
           "320",
           -12507.074700598805
          ],
          [
           "610",
           -17409.507662835247
          ],
          [
           "221",
           -9628.25
          ],
          [
           "5580",
           -12283.473395065324
          ],
          [
           "897",
           -12912.156151680741
          ],
          [
           "300",
           -15931.842993559854
          ],
          [
           "633",
           -15139.028749999998
          ],
          [
           "873",
           -13049.260606060605
          ],
          [
           "7790",
           -9799.525948766604
          ],
          [
           "401",
           -9858.187346938776
          ],
          [
           "421",
           -14671.333462732917
          ],
          [
           "8090",
           -21126.174548946205
          ],
          [
           "31",
           -7200.1734234234245
          ],
          [
           "7890",
           -20107.48120723902
          ],
          [
           "100",
           -10161.096000000001
          ],
          [
           "7880",
           -26738.564906832304
          ],
          [
           "7480",
           -30892.861718275653
          ],
          [
           "6180",
           -20270.726161282837
          ],
          [
           "4280",
           -4427.240699404763
          ],
          [
           "359",
           -10132.095238095237
          ],
          [
           "18",
           -7766.4238505747135
          ],
          [
           "7570",
           -19407.79571110831
          ],
          [
           "8590",
           -11534.418651024967
          ],
          [
           "617",
           -8544.181818181816
          ],
          [
           "619",
           -8952.039160839162
          ],
          [
           "772",
           -5487.866477003319
          ],
          [
           "168",
           -6679.780975073314
          ],
          [
           "502",
           -15695.151315789473
          ],
          [
           "761",
           -4032.9907862858818
          ],
          [
           "632",
           -13824.463032581454
          ],
          [
           "921",
           -15017.650913242007
          ],
          [
           "9070",
           -17042.530833333334
          ],
          [
           "4590",
           -7715.5142857142855
          ],
          [
           "27",
           -8545.386327503973
          ],
          [
           "658",
           -7550.547008547008
          ],
          [
           "477",
           -6259.352380952381
          ],
          [
           "649",
           -7798.6785714285725
          ],
          [
           "8390",
           -5272.588198911431
          ],
          [
           "3790",
           -11280.352941176472
          ],
          [
           "6690",
           -22483.48592975652
          ],
          [
           "667",
           -6644.427708764666
          ],
          [
           "449",
           -11753.47619047619
          ],
          [
           "639",
           -7403.251785714287
          ],
          [
           "5690",
           -12676.983732623485
          ],
          [
           "9480",
           -15653.861116000699
          ],
          [
           "3980",
           -18748.078786103553
          ],
          [
           "219",
           -8942.896628306078
          ],
          [
           "801",
           -771.2933333333331
          ],
          [
           "601",
           -10875.858878058983
          ],
          [
           "17",
           -5030.410407239819
          ],
          [
           "140",
           -9567.5
          ],
          [
           "640",
           -11092.918181818182
          ],
          [
           "9390",
           -3594.7325757575745
          ],
          [
           "6570",
           -16554.231294921643
          ],
          [
           "227",
           -7993.509142598694
          ],
          [
           "4490",
           -17080.253412734775
          ],
          [
           "889",
           -14287.48095238095
          ],
          [
           "120",
           -523.2186174724411
          ],
          [
           "4670",
           -20195.66616077249
          ],
          [
           "8170",
           -14884.700776001857
          ],
          [
           "2690",
           -6667.071070234117
          ],
          [
           "842",
           -9567.557188969557
          ],
          [
           "4870",
           -12056.977933813308
          ],
          [
           "8570",
           -5178.112687405061
          ],
          [
           "268",
           -7351.6704397606045
          ],
          [
           "631",
           -12832.435142248403
          ],
          [
           "621",
           -8580.804761904763
          ],
          [
           "3590",
           -16871.81446269086
          ],
          [
           "2480",
           -13502.33901515152
          ],
          [
           "130",
           -18403.560606060608
          ],
          [
           "558",
           -11826.375081116159
          ],
          [
           "147",
           -6075.315258950295
          ],
          [
           "207",
           -10636.422131147541
          ],
          [
           "839",
           -4068.4667238421953
          ],
          [
           "381",
           7211.666666666668
          ],
          [
           "802",
           -9729.711642411641
          ],
          [
           "3170",
           -20297.605021728632
          ],
          [
           "208",
           -9988.502251080967
          ],
          [
           "790",
           -29791.3568627451
          ],
          [
           "770",
           -7508.325241307488
          ],
          [
           "5480",
           -19848.590771748706
          ],
          [
           "8890",
           -13397.585858585859
          ],
          [
           "328",
           -7270.624517374519
          ],
          [
           "501",
           -9415.17741935484
          ],
          [
           "77",
           -11727.907407407409
          ],
          [
           "228",
           -6423.77650273224
          ],
          [
           "2280",
           -24600.88461538461
          ],
          [
           "198",
           6102.414141414141
          ],
          [
           "290",
           -9584.065359477125
          ],
          [
           "620",
           -11301.029804000807
          ],
          [
           "5590",
           -19141.956603773586
          ],
          [
           "118",
           -5364.710197368421
          ],
          [
           "669",
           -6266.113808509668
          ],
          [
           "6680",
           -21919.0561295332
          ],
          [
           "8560",
           -16021.972988505753
          ],
          [
           "8990",
           -6714.166749516709
          ],
          [
           "798",
           -9342.62619047619
          ],
          [
           "841",
           -42426.812292956936
          ],
          [
           "932",
           -11572.651587193766
          ],
          [
           "341",
           -16801.170199403357
          ],
          [
           "6070",
           -29348.009204188857
          ],
          [
           "329",
           -8496.490421455937
          ],
          [
           "537",
           -8828.834065934067
          ],
          [
           "230",
           -8813.84375
          ],
          [
           "452",
           -28959.03508771929
          ],
          [
           "4970",
           -14235.020307070889
          ],
          [
           "7690",
           -11995.814830346932
          ],
          [
           "1490",
           -18015.32727272727
          ],
          [
           "201",
           -6326.846153846152
          ],
          [
           "6970",
           -63556.154132337746
          ],
          [
           "177",
           -8331.727272727274
          ],
          [
           "678",
           -5169.9794871794875
          ],
          [
           "8070",
           -58959.206403659235
          ],
          [
           "4680",
           -20537.307526881716
          ],
          [
           "657",
           -9005.763173652695
          ],
          [
           "229",
           -5488.3888888888905
          ],
          [
           "68",
           -6137.2033064516145
          ],
          [
           "60",
           -7959.19481270578
          ],
          [
           "702",
           -24815.48354037267
          ],
          [
           "2290",
           -15367.247673536913
          ],
          [
           "2470",
           -17245.214285714286
          ],
          [
           "418",
           -9757.35
          ],
          [
           "5380",
           -11694.54804098211
          ],
          [
           "19",
           -5143.702702702703
          ],
          [
           "429",
           -12549.126190476192
          ],
          [
           "347",
           -10245.97655278017
          ],
          [
           "9490",
           -10468.450526315792
          ],
          [
           "1890",
           -8855.69331585845
          ],
          [
           "8690",
           -6100.087343690793
          ],
          [
           "837",
           -43100
          ],
          [
           "128",
           -6473.799999999999
          ],
          [
           "280",
           -10748.922040534315
          ],
          [
           "41",
           -14204.49019607843
          ],
          [
           "840",
           -22206.372381424644
          ],
          [
           "102",
           -12237.42102396514
          ],
          [
           "530",
           -14303.095256986686
          ],
          [
           "8380",
           -10455.593548387096
          ],
          [
           "7860",
           -12169.57277029266
          ],
          [
           "4290",
           -30604.991075134916
          ],
          [
           "3780",
           -17398.715789473685
          ],
          [
           "2870",
           -11601.9985701576
          ],
          [
           "931",
           -14744.826844642197
          ],
          [
           "319",
           -8394.944673397898
          ],
          [
           "238",
           -13273.583333333332
          ],
          [
           "349",
           -6485.1450549450565
          ],
          [
           "111",
           -10565.327911515942
          ],
          [
           "1790",
           -19307.1
          ],
          [
           "4780",
           -27021.319767441862
          ],
          [
           "8980",
           -13410.279930124223
          ],
          [
           "1190",
           -14206.520251778875
          ],
          [
           "2770",
           -9297.592307692306
          ],
          [
           "3390",
           -40468.62549454113
          ],
          [
           "3370",
           -46054.89854100285
          ],
          [
           "748",
           -10790.430091743117
          ],
          [
           "197",
           -8769.91773897059
          ],
          [
           "722",
           -7303.390866614753
          ],
          [
           "220",
           -16984.8
          ],
          [
           "4380",
           -21541.063909774428
          ],
          [
           "1570",
           -25815.61764705882
          ],
          [
           "709",
           -15974.535714285714
          ],
          [
           "901",
           -11636.111785004709
          ],
          [
           "507",
           -8575.978160919538
          ],
          [
           "891",
           -11555.865612648224
          ],
          [
           "4190",
           -26969.026574346288
          ],
          [
           "738",
           -14355.367720883536
          ],
          [
           "729",
           -8781.067462686568
          ],
          [
           "167",
           -7935
          ],
          [
           "412",
           -5761.688289426198
          ],
          [
           "6672",
           -39150.63591836735
          ],
          [
           "927",
           -6337.875577400773
          ],
          [
           "822",
           -49073.769230769234
          ],
          [
           "40",
           -8565.245700245701
          ],
          [
           "582",
           -8640.08552631579
          ],
          [
           "688",
           -1587.0318181818184
          ],
          [
           "8880",
           -10614.89
          ],
          [
           "189",
           -12637.38434134888
          ],
          [
           "270",
           -10493.003809523809
          ],
          [
           "271",
           -10779.74779116466
          ],
          [
           "6692",
           42916.13913043478
          ],
          [
           "879",
           -3250.241666666666
          ],
          [
           "297",
           -7367.874603174605
          ],
          [
           "292",
           -11542.619047619046
          ],
          [
           "4070",
           -18839.76024034113
          ],
          [
           "779",
           -8315.706595744681
          ],
          [
           "288",
           -8080.050420168068
          ],
          [
           "338",
           -8361.280672732286
          ],
          [
           "190",
           1573.0931122448965
          ],
          [
           "6190",
           -8191.597570932841
          ],
          [
           "2370",
           -15482.811000036087
          ],
          [
           "1170",
           -11604.914025297621
          ],
          [
           "858",
           -7203.889630996311
          ],
          [
           "531",
           -6312.596926713948
          ],
          [
           "830",
           -31401
          ],
          [
           "4990",
           -21134.668678739105
          ],
          [
           "728",
           -7086.868181818181
          ],
          [
           "241",
           -9440.769196025294
          ],
          [
           "8470",
           -15408.58031783579
          ],
          [
           "8080",
           -29942.044464609804
          ],
          [
           "638",
           -2971.4444444444443
          ],
          [
           "857",
           -7794.096990803644
          ],
          [
           "9590",
           -14361.029594255786
          ],
          [
           "2890",
           -19065.424598623853
          ],
          [
           "3970",
           -33080.28065072183
          ],
          [
           "7170",
           -32196.583916083917
          ],
          [
           "650",
           264.74047619047633
          ],
          [
           "852",
           -10210.790279027904
          ],
          [
           "3870",
           -8231.250584795322
          ],
          [
           "2190",
           -21301.932192290697
          ],
          [
           "4480",
           -17016.608147949606
          ],
          [
           "8870",
           -10044.959611618797
          ],
          [
           "6990",
           -34814.00544314572
          ],
          [
           "1370",
           -6713.772985519296
          ],
          [
           "3690",
           -18477.134920634926
          ],
          [
           "398",
           -11375
          ],
          [
           "471",
           -9319.147186147187
          ],
          [
           "231",
           -6327.611494659821
          ],
          [
           "450",
           -12430.93863511282
          ],
          [
           "7870",
           -15808.309342654342
          ],
          [
           "869",
           1584.3516483516469
          ],
          [
           "660",
           -11106.601990049749
          ],
          [
           "380",
           -24002.877995642702
          ],
          [
           "247",
           -8710.388888888889
          ],
          [
           "108",
           -6024.351807228915
          ],
          [
           "671",
           -11240.599999999999
          ],
          [
           "612",
           -10800.590038657741
          ],
          [
           "5370",
           -16419.03846153846
          ],
          [
           "3190",
           -16697.865191826524
          ],
          [
           "6390",
           -11607.390054054053
          ],
          [
           "627",
           -6992.62091503268
          ],
          [
           "821",
           -73969.94047619047
          ],
          [
           "261",
           -11015.5
          ],
          [
           "281",
           -11659.17306122449
          ],
          [
           "461",
           -12543.324675324675
          ],
          [
           "9190",
           -20212.241918574175
          ],
          [
           "6890",
           -34845.04556073177
          ],
          [
           "2670",
           -13874.847963800901
          ],
          [
           "877",
           -9101.244565217392
          ],
          [
           "741",
           -8096.010018514095
          ],
          [
           "360",
           -14503.401839178787
          ],
          [
           "751",
           -7792.026907001047
          ],
          [
           "731",
           -13468.473375501337
          ],
          [
           "511",
           -11840.784615384619
          ],
          [
           "1080",
           -25700.852402745993
          ],
          [
           "4090",
           -15878.2321137416
          ],
          [
           "832",
           -8013.228917650045
          ],
          [
           "778",
           -6156.828368794327
          ],
          [
           "708",
           -11408.59448416752
          ],
          [
           "540",
           -20519.645267791635
          ],
          [
           "682",
           -12872.177717019822
          ],
          [
           "350",
           -14083.199999999997
          ],
          [
           "242",
           -5681.259211927583
          ],
          [
           "622",
           -16661.470588235294
          ],
          [
           "7290",
           -23536.771692092603
          ],
          [
           "6290",
           -18678.985558799075
          ],
          [
           "759",
           -7370.447552447553
          ],
          [
           "291",
           -11949.033333333333
          ],
          [
           "679",
           -4938.121212121212
          ],
          [
           "739",
           -9234.298807281857
          ],
          [
           "592",
           -8849.067241379309
          ],
          [
           "8770",
           -8519.571621187799
          ],
          [
           "2680",
           8120.6875
          ],
          [
           "6480",
           -35373.32717569787
          ],
          [
           "269",
           -6851.003861003863
          ],
          [
           "150",
           -15972.999999999996
          ],
          [
           "623",
           -23353.41241241241
          ],
          [
           "5680",
           -11516.622818152966
          ],
          [
           "687",
           -16713.895833333332
          ],
          [
           "860",
           -6106.876923076921
          ],
          [
           "1680",
           -8780.279052052476
          ],
          [
           "170",
           -4696.650730987811
          ],
          [
           "178",
           -5970.032394366197
          ],
          [
           "2170",
           -19904.718531468534
          ],
          [
           "259",
           -9983.208173690931
          ],
          [
           "48",
           -10370.413071895424
          ],
          [
           "5090",
           -13506.310056373888
          ],
          [
           "6370",
           -10367.578253137894
          ],
          [
           "500",
           -11043.38580858086
          ],
          [
           "1390",
           14090.259740259746
          ],
          [
           "148",
           -7190.988888888889
          ],
          [
           "180",
           -5957.037251194266
          ],
          [
           "141",
           -10263.833992094864
          ],
          [
           "5591",
           -25621.303571428572
          ],
          [
           "239",
           -9756.234848484848
          ],
          [
           "159",
           -8467.786324786324
          ],
          [
           "867",
           -6811.5502392344515
          ],
          [
           "377",
           -9715.355862068966
          ],
          [
           "209",
           -34494
          ],
          [
           "2070",
           -20144.50806982872
          ],
          [
           "427",
           -8465.710554333167
          ],
          [
           "812",
           -103145.70864291611
          ],
          [
           "642",
           -21972.87416267943
          ],
          [
           "67",
           -7076.289435069701
          ],
          [
           "158",
           -5982.837037037036
          ],
          [
           "402",
           -5540.359375
          ],
          [
           "1180",
           -12294.233415409282
          ],
          [
           "5470",
           -2617.645390070924
          ],
          [
           "838",
           -5714.554334650855
          ],
          [
           "407",
           -4473.094838709676
          ],
          [
           "6470",
           -16014.344625250851
          ],
          [
           "922",
           -9195.142299709427
          ],
          [
           "567",
           -9812.26936026936
          ],
          [
           "648",
           -6315.304421768708
          ],
          [
           "849",
           -19768.60769230769
          ],
          [
           "777",
           -7246.913781877374
          ],
          [
           "322",
           -21895.266231481153
          ],
          [
           "8180",
           -29220.47823668475
          ],
          [
           "7070",
           -16725.399334731912
          ],
          [
           "930",
           -8597.262598782225
          ],
          [
           "893",
           53794.38181818182
          ],
          [
           "4880",
           -14387.50988638504
          ],
          [
           "6590",
           -12550.224242424243
          ],
          [
           "490",
           -29311.72875888068
          ],
          [
           "562",
           -14498.063636363633
          ],
          [
           "701",
           -24429.127325581394
          ],
          [
           "757",
           -5935.823232323231
          ],
          [
           "212",
           -14105.955748135148
          ],
          [
           "4260",
           -18305.21735395189
          ],
          [
           "480",
           27239.913043478256
          ],
          [
           "509",
           -16062.8
          ],
          [
           "781",
           -5327.386666666665
          ],
          [
           "32",
           -45363.47619047618
          ],
          [
           "7270",
           -100274.05598286373
          ],
          [
           "299",
           -8111.1558441558445
          ],
          [
           "907",
           -5842.591917702408
          ],
          [
           "780",
           -6424.444444444445
          ],
          [
           "152",
           -10898.558452481077
          ],
          [
           "358",
           -12771.086627906978
          ],
          [
           "538",
           -6000
          ],
          [
           "318",
           -5059.1057692307695
          ],
          [
           "149",
           -7633.484126984125
          ],
          [
           "391",
           -15611.513716108453
          ],
          [
           "4585",
           -25880.098972922504
          ],
          [
           "4170",
           -36179.93778415889
          ],
          [
           "289",
           -7722.110389610389
          ],
          [
           "237",
           -974.6846153846145
          ],
          [
           "550",
           -10885.70852017937
          ],
          [
           "561",
           -12035.077280405407
          ],
          [
           "20",
           -5708.972767165722
          ],
          [
           "600",
           -18494.803030303032
          ],
          [
           "680",
           -11697.617838885955
          ],
          [
           "9370",
           -16604.68052641821
          ],
          [
           "8270",
           -14202.786092520822
          ],
          [
           "551",
           -7225.796551724137
          ],
          [
           "769",
           -1755.2847619047616
          ],
          [
           "859",
           -5194.4787878787865
          ],
          [
           "342",
           -19371.19909387998
          ],
          [
           "681",
           -3580.5241820768133
          ],
          [
           "472",
           -35963.919191919194
          ],
          [
           "3180",
           -16395.08041666667
          ],
          [
           "142",
           -10103.19831907436
          ],
          [
           "668",
           -5115.61862745098
          ],
          [
           "571",
           -25633.333333333336
          ],
          [
           "9570",
           -14641.662385503783
          ],
          [
           "357",
           -13088.322105263158
          ],
          [
           "750",
           6619.935885167462
          ],
          [
           "1590",
           -13434.449999999997
          ],
          [
           "127",
           -8924.001960784315
          ],
          [
           "7180",
           -3783.2199699699704
          ],
          [
           "7580",
           -9134.695081743037
          ],
          [
           "1690",
           9123.333333333336
          ],
          [
           "409",
           -3911.9733333333324
          ],
          [
           "397",
           -6298.471428571429
          ],
          [
           "211",
           -10331.220982142859
          ],
          [
           "4890",
           -19866.693381728775
          ],
          [
           "5670",
           -13724
          ],
          [
           "420",
           -17415.269113149847
          ],
          [
           "10",
           -5371.111961722489
          ],
          [
           "5490",
           -10645.212164707991
          ],
          [
           "2270",
           -19136.203871748337
          ],
          [
           "3990",
           -214.98910196840006
          ],
          [
           "6770",
           -12677.78866548829
          ],
          [
           "371",
           -15677.574933095453
          ],
          [
           "552",
           -14474.352638352637
          ],
          [
           "49",
           -11021.089460784313
          ],
          [
           "9180",
           -24541.830357142855
          ],
          [
           "698",
           3716.666666666668
          ],
          [
           "2490",
           -11609.432217532143
          ],
          [
           "5080",
           -25753.185783374396
          ],
          [
           "362",
           -19607.313179347824
          ],
          [
           "222",
           -17840.727272727272
          ],
          [
           "4470",
           -16849.1212780547
          ],
          [
           "732",
           -25904.141140165666
          ],
          [
           "172",
           -11643.174440622744
          ],
          [
           "607",
           -5563.953835227272
          ],
          [
           "181",
           -23596.167619410568
          ],
          [
           "7680",
           -4650.888470571976
          ],
          [
           "312",
           -11544.775641025644
          ],
          [
           "752",
           -7825.5341074020325
          ],
          [
           "580",
           -15538.866483516482
          ],
          [
           "331",
           -12480.381113460182
          ],
          [
           "762",
           -8146.851949685533
          ],
          [
           "121",
           -16033.174472807994
          ],
          [
           "641",
           -9619.698547925895
          ],
          [
           "1270",
           -16778.64968221096
          ],
          [
           "689",
           -3949.645161290323
          ],
          [
           "882",
           -20461.784247120642
          ],
          [
           "252",
           -2708.7084639498426
          ],
          [
           "210",
           -13447.53333333333
          ],
          [
           "411",
           -5589.094789704959
          ],
          [
           "510",
           -21059.881284153
          ],
          [
           "871",
           -11012.62650050136
          ],
          [
           "7190",
           -37910.25481088255
          ],
          [
           "2790",
           -5170.994708994709
          ],
          [
           "400",
           -13076.378710771842
          ],
          [
           "8670",
           -6468.541871921181
          ],
          [
           "6170",
           -9984.505016182295
          ],
          [
           "5070",
           -31744.664231778414
          ],
          [
           "2970",
           -15658.139743589745
          ],
          [
           "618",
           -6380.5
          ],
          [
           "339",
           -8863.903006226707
          ],
          [
           "630",
           -8326.477272727272
          ],
          [
           "12",
           -9342.768421052631
          ],
          [
           "557",
           -9726.426666666664
          ],
          [
           "417",
           -8860.371432378415
          ],
          [
           "3890",
           -8650.64986655429
          ],
          [
           "887",
           -11796.880000000001
          ],
          [
           "721",
           -18927.94839942666
          ],
          [
           "1670",
           -7960
          ],
          [
           "109",
           -6689.041467304625
          ],
          [
           "900",
           -15798.945993031357
          ],
          [
           "587",
           -12428.978776322336
          ],
          [
           "690",
           -8574.216666666667
          ],
          [
           "4770",
           -11860.597124035987
          ],
          [
           "9170",
           -10277.747347343924
          ],
          [
           "249",
           -15940.333333333332
          ],
          [
           "602",
           -16122.222222222223
          ],
          [
           "810",
           -13292.807047296024
          ],
          [
           "6490",
           -33310.96759662888
          ],
          [
           "5790",
           -17850.66756272401
          ],
          [
           "157",
           -7000.042207792207
          ],
          [
           "191",
           -11106.794117647056
          ],
          [
           "6080",
           -5858.507689057878
          ],
          [
           "831",
           -13269.769068226458
          ],
          [
           "182",
           -17218.55888888889
          ],
          [
           "21",
           6319.9285714285725
          ],
          [
           "5290",
           -19835.803113553113
          ],
          [
           "9160",
           -17720.5409686121
          ],
          [
           "508",
           -11058.681451612902
          ],
          [
           "662",
           -11789.825396825398
          ],
          [
           "651",
           -10748.196117804553
          ],
          [
           "2880",
           -12466.624484243937
          ],
          [
           "771",
           -11250.553852377954
          ],
          [
           "760",
           -8226.695343050123
          ],
          [
           "469",
           -8824.356338028167
          ],
          [
           "137",
           -9233.444444444445
          ],
          [
           "161",
           -16519.037976561336
          ],
          [
           "3470",
           -10655.049999999996
          ],
          [
           "6870",
           -44222.89276803122
          ],
          [
           "3290",
           -14647.585858585859
          ],
          [
           "7380",
           -19954.61493999214
          ],
          [
           "4270",
           -22318.33225849345
          ],
          [
           "637",
           -10151.437246963564
          ],
          [
           "758",
           -7654.480519480521
          ],
          [
           "677",
           -14606.132604478928
          ],
          [
           "392",
           -31258.690476190477
          ],
          [
           "7390",
           -41355.80862969513
          ],
          [
           "2990",
           -16585.20652173913
          ],
          [
           "661",
           -9121.657407407407
          ],
          [
           "151",
           -10097.691715994575
          ],
          [
           "367",
           -2480.1612903225796
          ],
          [
           "321",
           -1169.8830769230772
          ],
          [
           "3070",
           -14445.870104482645
          ],
          [
           "4790",
           -24292.293386741512
          ],
          [
           "809",
           -7280.176237623763
          ],
          [
           "791",
           -7266.312781954888
          ],
          [
           "1480",
           -10798.3526534605
          ],
          [
           "262",
           -11409.657142857144
          ],
          [
           "1990",
           -15145.991806905207
          ],
          [
           "368",
           -7448.633689839573
          ],
          [
           "3680",
           -15618.82311849216
          ],
          [
           "608",
           -9422.281130634074
          ],
          [
           "378",
           -10093.214285714286
          ],
          [
           "529",
           -10580.282231598687
          ],
          [
           "5180",
           -26536.245221445224
          ],
          [
           "5270",
           -18868.77808695652
          ],
          [
           "337",
           -7682.014755197853
          ],
          [
           "278",
           -7854.926259592927
          ],
          [
           "460",
           -13806.11671121293
          ],
          [
           "5390",
           -11783.919525443107
          ],
          [
           "828",
           -31733.531203931205
          ],
          [
           "370",
           -32075.345165745857
          ],
          [
           "6270",
           -14407.794573643412
          ],
          [
           "848",
           -9949.103647944412
          ],
          [
           "311",
           -20218.891402714933
          ],
          [
           "192",
           -14284.398403128562
          ],
          [
           "590",
           -28965.41994750656
          ],
          [
           "2590",
           -16959.59090909091
          ],
          [
           "569",
           -2052.498102466794
          ],
          [
           "340",
           -12423.157894736843
          ],
          [
           "2780",
           -33207.53870625663
          ],
          [
           "847",
           -28987.627272727274
          ],
          [
           "717",
           -12991.937178279253
          ],
          [
           "707",
           -12631.331845238095
          ],
          [
           "611",
           -6148.784090909092
          ],
          [
           "301",
           -7057.585858585859
          ],
          [
           "6780",
           -24045.07466063348
          ],
          [
           "532",
           -17998.648648648646
          ],
          [
           "872",
           -3775.7688888888915
          ],
          [
           "5570",
           -19893.81212121212
          ],
          [
           "3380",
           -31931.333269415154
          ],
          [
           "7990",
           -83083.54700854702
          ],
          [
           "50",
           -14844.643512450853
          ],
          [
           "57",
           -6464.986486486487
          ],
          [
           "332",
           12113
          ],
          [
           "861",
           383.55403681428834
          ],
          [
           "542",
           -1858.6785714285725
          ],
          [
           "937",
           -7986.629896873652
          ],
          [
           "881",
           -13794.910624953336
          ],
          [
           "820",
           -50342.418103448275
          ],
          [
           "119",
           -8381.668101761254
          ],
          [
           "8660",
           -15356.812462108366
          ],
          [
           "8190",
           -26366.00202443324
          ],
          [
           "4180",
           -29434.24675324675
          ],
          [
           "6880",
           -36802.51698952048
          ],
          [
           "7470",
           -27655.05336871591
          ]
         ],
         "hovertemplate": "Average Male Income=%{x}<br>Average Female Income=%{y}<br>abs_diff=%{marker.size}<br>ind=%{customdata[0]}<br>Income Difference=%{marker.color}<extra></extra>",
         "legendgroup": "",
         "marker": {
          "color": [
           -10162.333646209387,
           -29201.395,
           -15674.480769230766,
           -11305.828206126687,
           -18057.216421780467,
           3835.4444444444453,
           -6959.503286384974,
           -16653.773519843853,
           -17757.323091542603,
           -7039.3191066997515,
           -12726.800277422108,
           -17529.571130040924,
           -6906.478280141844,
           -8900.579710144928,
           -2421.5509950248743,
           -7817.5182367149755,
           -13229.76305084746,
           -18615.38095238095,
           -11950.587120567376,
           -9520.686058178126,
           -16964.548387096773,
           -6487.242105263158,
           -14232.490555037315,
           -15930.558823529413,
           -20581.833635167688,
           -6904.8499999999985,
           -11546.75060532688,
           -11448.566404130426,
           -14890.728937028776,
           -8492.791320767556,
           -10563.83747220163,
           -27302.63403390653,
           -13506.882352941175,
           -81722.3370280909,
           -22030.978827233375,
           -6031.266112266112,
           -13939.526785714286,
           -19215.747543901998,
           -6060.008077226163,
           -13451.542857142858,
           -9037.539104477613,
           -22201.284732344808,
           -4701.6,
           -9834.714285714286,
           -16407.480065627566,
           -20265.402327935222,
           -30132.15387537073,
           -18665.644501278774,
           -16488.180751400425,
           -13669.623076923075,
           -4789.104619565216,
           -6625.777777777777,
           -6892.602443609023,
           -16129.11904761905,
           -44706.447492163,
           -9164.315151515153,
           -7052.626629647513,
           -18131.68157200389,
           -9624.045454545456,
           -1279.060869565219,
           1281.5714285714294,
           -9708.346370047862,
           -12620.006396588486,
           -2531.1000000000004,
           -26164.265306122456,
           -10953.986013986014,
           -10851.610920148072,
           -17428.023529411767,
           -20921.769230769234,
           -51550.40753281467,
           -8355.989340439704,
           -36800.48695652174,
           -9054.888888888887,
           -4374.875,
           -9016.651416828896,
           -37952.89470194857,
           -17313.631267605633,
           -25747.122181818188,
           -1074.4171622769754,
           -13113.130490956071,
           -521.25,
           -7445.214616222103,
           -22670.340360122973,
           -12274.975024975025,
           -13498.761904761906,
           -11576.080301883863,
           -12886.326174608812,
           -12346.323381896344,
           -5322.828710644677,
           -21008.297090992746,
           -14987.924501424503,
           -6831.940446650124,
           -8037.48905723906,
           -2425,
           -14934.895433860002,
           -18619.055223880594,
           -10442.892974238875,
           -10780.714285714286,
           -24423.675889328064,
           -11459.422774327122,
           -8745.041147044314,
           -7433.1923076923085,
           -9212.294258373207,
           -14885.142054551274,
           7602.414141414141,
           -14755.142857142855,
           -9261.241666666669,
           -8237.137755102041,
           -9252.375,
           -20137.100628930817,
           552.8785046728954,
           -14318.25279789335,
           6032.226641414141,
           -25829.748251748257,
           428.7635206786872,
           -20627.057738744355,
           -7198.877777777778,
           -11116.732517482516,
           -9185.285547132498,
           -8257.367676767675,
           -9153.541935483874,
           -9924.323641801602,
           -17294.968426501033,
           -7673.632352941175,
           -18876.747457088364,
           -11418.343909522973,
           -11285.014245014248,
           -25663.74264448614,
           -16701.802655873966,
           -14447.601538091803,
           -13403.647561086385,
           -6275.972487366649,
           -20176.135297624576,
           -6795.8738095238095,
           -25828.023529411767,
           -13410.10755268675,
           -9879.93630977571,
           -14356.206930091183,
           -4906.772763770678,
           897.6404371584722,
           -33408.856410730805,
           -6860.02402022756,
           -10901.602890826874,
           -10880.578732972694,
           -24993.64951941561,
           -10906.315789473685,
           3162.4141414141413,
           -10437.505882352943,
           -3475.8716707021795,
           -21606.645797364832,
           -18833.759714218308,
           -7513.378151260502,
           -10556.666666666666,
           -12082.684754521964,
           -10154.522462831286,
           -572.2597402597385,
           -3441.2037037037044,
           -14345.718837863165,
           -37645.51718213059,
           -17349.892843547772,
           -13808.45035609552,
           -15702.713650793652,
           -45122.85172413793,
           -37896.00974634512,
           -33709.48512777544,
           -8629.766569993635,
           -10815.443718228034,
           -50800,
           -20500.605555555558,
           -6517.67806505421,
           -10300.906462430888,
           -6940.987330316742,
           -13816.768030718686,
           -6052.360139318884,
           -18126.501666666663,
           -8887.407948717948,
           -8991.975359657179,
           -12218.366798318257,
           -9189.758224904763,
           -30840.9176431343,
           -2169.6012298091046,
           -136009.74869041692,
           -11001.175555555554,
           -8603.847902097903,
           -12507.074700598805,
           -17409.507662835247,
           -9628.25,
           -12283.473395065324,
           -12912.156151680741,
           -15931.842993559854,
           -15139.028749999998,
           -13049.260606060605,
           -9799.525948766604,
           -9858.187346938776,
           -14671.333462732917,
           -21126.174548946205,
           -7200.1734234234245,
           -20107.48120723902,
           -10161.096000000001,
           -26738.564906832304,
           -30892.861718275653,
           -20270.726161282837,
           -4427.240699404763,
           -10132.095238095237,
           -7766.4238505747135,
           -19407.79571110831,
           -11534.418651024967,
           -8544.181818181816,
           -8952.039160839162,
           -5487.866477003319,
           -6679.780975073314,
           -15695.151315789473,
           -4032.9907862858818,
           -13824.463032581454,
           -15017.650913242007,
           -17042.530833333334,
           -7715.5142857142855,
           -8545.386327503973,
           -7550.547008547008,
           -6259.352380952381,
           -7798.6785714285725,
           -5272.588198911431,
           -11280.352941176472,
           -22483.48592975652,
           -6644.427708764666,
           -11753.47619047619,
           -7403.251785714287,
           -12676.983732623485,
           -15653.861116000699,
           -18748.078786103553,
           -8942.896628306078,
           -771.2933333333331,
           -10875.858878058983,
           -5030.410407239819,
           -9567.5,
           -11092.918181818182,
           -3594.7325757575745,
           -16554.231294921643,
           -7993.509142598694,
           -17080.253412734775,
           -14287.48095238095,
           -523.2186174724411,
           -20195.66616077249,
           -14884.700776001857,
           -6667.071070234117,
           -9567.557188969557,
           -12056.977933813308,
           -5178.112687405061,
           -7351.6704397606045,
           -12832.435142248403,
           -8580.804761904763,
           -16871.81446269086,
           -13502.33901515152,
           -18403.560606060608,
           -11826.375081116159,
           -6075.315258950295,
           -10636.422131147541,
           -4068.4667238421953,
           7211.666666666668,
           -9729.711642411641,
           -20297.605021728632,
           -9988.502251080967,
           -29791.3568627451,
           -7508.325241307488,
           -19848.590771748706,
           -13397.585858585859,
           -7270.624517374519,
           -9415.17741935484,
           -11727.907407407409,
           -6423.77650273224,
           -24600.88461538461,
           6102.414141414141,
           -9584.065359477125,
           -11301.029804000807,
           -19141.956603773586,
           -5364.710197368421,
           -6266.113808509668,
           -21919.0561295332,
           -16021.972988505753,
           -6714.166749516709,
           -9342.62619047619,
           -42426.812292956936,
           -11572.651587193766,
           -16801.170199403357,
           -29348.009204188857,
           -8496.490421455937,
           -8828.834065934067,
           -8813.84375,
           -28959.03508771929,
           -14235.020307070889,
           -11995.814830346932,
           -18015.32727272727,
           -6326.846153846152,
           -63556.154132337746,
           -8331.727272727274,
           -5169.9794871794875,
           -58959.206403659235,
           -20537.307526881716,
           -9005.763173652695,
           -5488.3888888888905,
           -6137.2033064516145,
           -7959.19481270578,
           -24815.48354037267,
           -15367.247673536913,
           -17245.214285714286,
           -9757.35,
           -11694.54804098211,
           -5143.702702702703,
           -12549.126190476192,
           -10245.97655278017,
           -10468.450526315792,
           -8855.69331585845,
           -6100.087343690793,
           -43100,
           -6473.799999999999,
           -10748.922040534315,
           -14204.49019607843,
           -22206.372381424644,
           -12237.42102396514,
           -14303.095256986686,
           -10455.593548387096,
           -12169.57277029266,
           -30604.991075134916,
           -17398.715789473685,
           -11601.9985701576,
           -14744.826844642197,
           -8394.944673397898,
           -13273.583333333332,
           -6485.1450549450565,
           -10565.327911515942,
           -19307.1,
           -27021.319767441862,
           -13410.279930124223,
           -14206.520251778875,
           -9297.592307692306,
           -40468.62549454113,
           -46054.89854100285,
           -10790.430091743117,
           -8769.91773897059,
           -7303.390866614753,
           -16984.8,
           -21541.063909774428,
           -25815.61764705882,
           -15974.535714285714,
           -11636.111785004709,
           -8575.978160919538,
           -11555.865612648224,
           -26969.026574346288,
           -14355.367720883536,
           -8781.067462686568,
           -7935,
           -5761.688289426198,
           -39150.63591836735,
           -6337.875577400773,
           -49073.769230769234,
           -8565.245700245701,
           -8640.08552631579,
           -1587.0318181818184,
           -10614.89,
           -12637.38434134888,
           -10493.003809523809,
           -10779.74779116466,
           42916.13913043478,
           -3250.241666666666,
           -7367.874603174605,
           -11542.619047619046,
           -18839.76024034113,
           -8315.706595744681,
           -8080.050420168068,
           -8361.280672732286,
           1573.0931122448965,
           -8191.597570932841,
           -15482.811000036087,
           -11604.914025297621,
           -7203.889630996311,
           -6312.596926713948,
           -31401,
           -21134.668678739105,
           -7086.868181818181,
           -9440.769196025294,
           -15408.58031783579,
           -29942.044464609804,
           -2971.4444444444443,
           -7794.096990803644,
           -14361.029594255786,
           -19065.424598623853,
           -33080.28065072183,
           -32196.583916083917,
           264.74047619047633,
           -10210.790279027904,
           -8231.250584795322,
           -21301.932192290697,
           -17016.608147949606,
           -10044.959611618797,
           -34814.00544314572,
           -6713.772985519296,
           -18477.134920634926,
           -11375,
           -9319.147186147187,
           -6327.611494659821,
           -12430.93863511282,
           -15808.309342654342,
           1584.3516483516469,
           -11106.601990049749,
           -24002.877995642702,
           -8710.388888888889,
           -6024.351807228915,
           -11240.599999999999,
           -10800.590038657741,
           -16419.03846153846,
           -16697.865191826524,
           -11607.390054054053,
           -6992.62091503268,
           -73969.94047619047,
           -11015.5,
           -11659.17306122449,
           -12543.324675324675,
           -20212.241918574175,
           -34845.04556073177,
           -13874.847963800901,
           -9101.244565217392,
           -8096.010018514095,
           -14503.401839178787,
           -7792.026907001047,
           -13468.473375501337,
           -11840.784615384619,
           -25700.852402745993,
           -15878.2321137416,
           -8013.228917650045,
           -6156.828368794327,
           -11408.59448416752,
           -20519.645267791635,
           -12872.177717019822,
           -14083.199999999997,
           -5681.259211927583,
           -16661.470588235294,
           -23536.771692092603,
           -18678.985558799075,
           -7370.447552447553,
           -11949.033333333333,
           -4938.121212121212,
           -9234.298807281857,
           -8849.067241379309,
           -8519.571621187799,
           8120.6875,
           -35373.32717569787,
           -6851.003861003863,
           -15972.999999999996,
           -23353.41241241241,
           -11516.622818152966,
           -16713.895833333332,
           -6106.876923076921,
           -8780.279052052476,
           -4696.650730987811,
           -5970.032394366197,
           -19904.718531468534,
           -9983.208173690931,
           -10370.413071895424,
           -13506.310056373888,
           -10367.578253137894,
           -11043.38580858086,
           14090.259740259746,
           -7190.988888888889,
           -5957.037251194266,
           -10263.833992094864,
           -25621.303571428572,
           -9756.234848484848,
           -8467.786324786324,
           -6811.5502392344515,
           -9715.355862068966,
           -34494,
           -20144.50806982872,
           -8465.710554333167,
           -103145.70864291611,
           -21972.87416267943,
           -7076.289435069701,
           -5982.837037037036,
           -5540.359375,
           -12294.233415409282,
           -2617.645390070924,
           -5714.554334650855,
           -4473.094838709676,
           -16014.344625250851,
           -9195.142299709427,
           -9812.26936026936,
           -6315.304421768708,
           -19768.60769230769,
           -7246.913781877374,
           -21895.266231481153,
           -29220.47823668475,
           -16725.399334731912,
           -8597.262598782225,
           53794.38181818182,
           -14387.50988638504,
           -12550.224242424243,
           -29311.72875888068,
           -14498.063636363633,
           -24429.127325581394,
           -5935.823232323231,
           -14105.955748135148,
           -18305.21735395189,
           27239.913043478256,
           -16062.8,
           -5327.386666666665,
           -45363.47619047618,
           -100274.05598286373,
           -8111.1558441558445,
           -5842.591917702408,
           -6424.444444444445,
           -10898.558452481077,
           -12771.086627906978,
           -6000,
           -5059.1057692307695,
           -7633.484126984125,
           -15611.513716108453,
           -25880.098972922504,
           -36179.93778415889,
           -7722.110389610389,
           -974.6846153846145,
           -10885.70852017937,
           -12035.077280405407,
           -5708.972767165722,
           -18494.803030303032,
           -11697.617838885955,
           -16604.68052641821,
           -14202.786092520822,
           -7225.796551724137,
           -1755.2847619047616,
           -5194.4787878787865,
           -19371.19909387998,
           -3580.5241820768133,
           -35963.919191919194,
           -16395.08041666667,
           -10103.19831907436,
           -5115.61862745098,
           -25633.333333333336,
           -14641.662385503783,
           -13088.322105263158,
           6619.935885167462,
           -13434.449999999997,
           -8924.001960784315,
           -3783.2199699699704,
           -9134.695081743037,
           9123.333333333336,
           -3911.9733333333324,
           -6298.471428571429,
           -10331.220982142859,
           -19866.693381728775,
           -13724,
           -17415.269113149847,
           -5371.111961722489,
           -10645.212164707991,
           -19136.203871748337,
           -214.98910196840006,
           -12677.78866548829,
           -15677.574933095453,
           -14474.352638352637,
           -11021.089460784313,
           -24541.830357142855,
           3716.666666666668,
           -11609.432217532143,
           -25753.185783374396,
           -19607.313179347824,
           -17840.727272727272,
           -16849.1212780547,
           -25904.141140165666,
           -11643.174440622744,
           -5563.953835227272,
           -23596.167619410568,
           -4650.888470571976,
           -11544.775641025644,
           -7825.5341074020325,
           -15538.866483516482,
           -12480.381113460182,
           -8146.851949685533,
           -16033.174472807994,
           -9619.698547925895,
           -16778.64968221096,
           -3949.645161290323,
           -20461.784247120642,
           -2708.7084639498426,
           -13447.53333333333,
           -5589.094789704959,
           -21059.881284153,
           -11012.62650050136,
           -37910.25481088255,
           -5170.994708994709,
           -13076.378710771842,
           -6468.541871921181,
           -9984.505016182295,
           -31744.664231778414,
           -15658.139743589745,
           -6380.5,
           -8863.903006226707,
           -8326.477272727272,
           -9342.768421052631,
           -9726.426666666664,
           -8860.371432378415,
           -8650.64986655429,
           -11796.880000000001,
           -18927.94839942666,
           -7960,
           -6689.041467304625,
           -15798.945993031357,
           -12428.978776322336,
           -8574.216666666667,
           -11860.597124035987,
           -10277.747347343924,
           -15940.333333333332,
           -16122.222222222223,
           -13292.807047296024,
           -33310.96759662888,
           -17850.66756272401,
           -7000.042207792207,
           -11106.794117647056,
           -5858.507689057878,
           -13269.769068226458,
           -17218.55888888889,
           6319.9285714285725,
           -19835.803113553113,
           -17720.5409686121,
           -11058.681451612902,
           -11789.825396825398,
           -10748.196117804553,
           -12466.624484243937,
           -11250.553852377954,
           -8226.695343050123,
           -8824.356338028167,
           -9233.444444444445,
           -16519.037976561336,
           -10655.049999999996,
           -44222.89276803122,
           -14647.585858585859,
           -19954.61493999214,
           -22318.33225849345,
           -10151.437246963564,
           -7654.480519480521,
           -14606.132604478928,
           -31258.690476190477,
           -41355.80862969513,
           -16585.20652173913,
           -9121.657407407407,
           -10097.691715994575,
           -2480.1612903225796,
           -1169.8830769230772,
           -14445.870104482645,
           -24292.293386741512,
           -7280.176237623763,
           -7266.312781954888,
           -10798.3526534605,
           -11409.657142857144,
           -15145.991806905207,
           -7448.633689839573,
           -15618.82311849216,
           -9422.281130634074,
           -10093.214285714286,
           -10580.282231598687,
           -26536.245221445224,
           -18868.77808695652,
           -7682.014755197853,
           -7854.926259592927,
           -13806.11671121293,
           -11783.919525443107,
           -31733.531203931205,
           -32075.345165745857,
           -14407.794573643412,
           -9949.103647944412,
           -20218.891402714933,
           -14284.398403128562,
           -28965.41994750656,
           -16959.59090909091,
           -2052.498102466794,
           -12423.157894736843,
           -33207.53870625663,
           -28987.627272727274,
           -12991.937178279253,
           -12631.331845238095,
           -6148.784090909092,
           -7057.585858585859,
           -24045.07466063348,
           -17998.648648648646,
           -3775.7688888888915,
           -19893.81212121212,
           -31931.333269415154,
           -83083.54700854702,
           -14844.643512450853,
           -6464.986486486487,
           12113,
           383.55403681428834,
           -1858.6785714285725,
           -7986.629896873652,
           -13794.910624953336,
           -50342.418103448275,
           -8381.668101761254,
           -15356.812462108366,
           -26366.00202443324,
           -29434.24675324675,
           -36802.51698952048,
           -27655.05336871591
          ],
          "coloraxis": "coloraxis",
          "size": [
           10162.333646209387,
           29201.395,
           15674.480769230766,
           11305.828206126687,
           18057.216421780467,
           3835.4444444444453,
           6959.503286384974,
           16653.773519843853,
           17757.323091542603,
           7039.3191066997515,
           12726.800277422108,
           17529.571130040924,
           6906.478280141844,
           8900.579710144928,
           2421.5509950248743,
           7817.5182367149755,
           13229.76305084746,
           18615.38095238095,
           11950.587120567376,
           9520.686058178126,
           16964.548387096773,
           6487.242105263158,
           14232.490555037315,
           15930.558823529413,
           20581.833635167688,
           6904.8499999999985,
           11546.75060532688,
           11448.566404130426,
           14890.728937028776,
           8492.791320767556,
           10563.83747220163,
           27302.63403390653,
           13506.882352941175,
           81722.3370280909,
           22030.978827233375,
           6031.266112266112,
           13939.526785714286,
           19215.747543901998,
           6060.008077226163,
           13451.542857142858,
           9037.539104477613,
           22201.284732344808,
           4701.6,
           9834.714285714286,
           16407.480065627566,
           20265.402327935222,
           30132.15387537073,
           18665.644501278774,
           16488.180751400425,
           13669.623076923075,
           4789.104619565216,
           6625.777777777777,
           6892.602443609023,
           16129.11904761905,
           44706.447492163,
           9164.315151515153,
           7052.626629647513,
           18131.68157200389,
           9624.045454545456,
           1279.060869565219,
           1281.5714285714294,
           9708.346370047862,
           12620.006396588486,
           2531.1000000000004,
           26164.265306122456,
           10953.986013986014,
           10851.610920148072,
           17428.023529411767,
           20921.769230769234,
           51550.40753281467,
           8355.989340439704,
           36800.48695652174,
           9054.888888888887,
           4374.875,
           9016.651416828896,
           37952.89470194857,
           17313.631267605633,
           25747.122181818188,
           1074.4171622769754,
           13113.130490956071,
           521.25,
           7445.214616222103,
           22670.340360122973,
           12274.975024975025,
           13498.761904761906,
           11576.080301883863,
           12886.326174608812,
           12346.323381896344,
           5322.828710644677,
           21008.297090992746,
           14987.924501424503,
           6831.940446650124,
           8037.48905723906,
           2425,
           14934.895433860002,
           18619.055223880594,
           10442.892974238875,
           10780.714285714286,
           24423.675889328064,
           11459.422774327122,
           8745.041147044314,
           7433.1923076923085,
           9212.294258373207,
           14885.142054551274,
           7602.414141414141,
           14755.142857142855,
           9261.241666666669,
           8237.137755102041,
           9252.375,
           20137.100628930817,
           552.8785046728954,
           14318.25279789335,
           6032.226641414141,
           25829.748251748257,
           428.7635206786872,
           20627.057738744355,
           7198.877777777778,
           11116.732517482516,
           9185.285547132498,
           8257.367676767675,
           9153.541935483874,
           9924.323641801602,
           17294.968426501033,
           7673.632352941175,
           18876.747457088364,
           11418.343909522973,
           11285.014245014248,
           25663.74264448614,
           16701.802655873966,
           14447.601538091803,
           13403.647561086385,
           6275.972487366649,
           20176.135297624576,
           6795.8738095238095,
           25828.023529411767,
           13410.10755268675,
           9879.93630977571,
           14356.206930091183,
           4906.772763770678,
           897.6404371584722,
           33408.856410730805,
           6860.02402022756,
           10901.602890826874,
           10880.578732972694,
           24993.64951941561,
           10906.315789473685,
           3162.4141414141413,
           10437.505882352943,
           3475.8716707021795,
           21606.645797364832,
           18833.759714218308,
           7513.378151260502,
           10556.666666666666,
           12082.684754521964,
           10154.522462831286,
           572.2597402597385,
           3441.2037037037044,
           14345.718837863165,
           37645.51718213059,
           17349.892843547772,
           13808.45035609552,
           15702.713650793652,
           45122.85172413793,
           37896.00974634512,
           33709.48512777544,
           8629.766569993635,
           10815.443718228034,
           50800,
           20500.605555555558,
           6517.67806505421,
           10300.906462430888,
           6940.987330316742,
           13816.768030718686,
           6052.360139318884,
           18126.501666666663,
           8887.407948717948,
           8991.975359657179,
           12218.366798318257,
           9189.758224904763,
           30840.9176431343,
           2169.6012298091046,
           136009.74869041692,
           11001.175555555554,
           8603.847902097903,
           12507.074700598805,
           17409.507662835247,
           9628.25,
           12283.473395065324,
           12912.156151680741,
           15931.842993559854,
           15139.028749999998,
           13049.260606060605,
           9799.525948766604,
           9858.187346938776,
           14671.333462732917,
           21126.174548946205,
           7200.1734234234245,
           20107.48120723902,
           10161.096000000001,
           26738.564906832304,
           30892.861718275653,
           20270.726161282837,
           4427.240699404763,
           10132.095238095237,
           7766.4238505747135,
           19407.79571110831,
           11534.418651024967,
           8544.181818181816,
           8952.039160839162,
           5487.866477003319,
           6679.780975073314,
           15695.151315789473,
           4032.9907862858818,
           13824.463032581454,
           15017.650913242007,
           17042.530833333334,
           7715.5142857142855,
           8545.386327503973,
           7550.547008547008,
           6259.352380952381,
           7798.6785714285725,
           5272.588198911431,
           11280.352941176472,
           22483.48592975652,
           6644.427708764666,
           11753.47619047619,
           7403.251785714287,
           12676.983732623485,
           15653.861116000699,
           18748.078786103553,
           8942.896628306078,
           771.2933333333331,
           10875.858878058983,
           5030.410407239819,
           9567.5,
           11092.918181818182,
           3594.7325757575745,
           16554.231294921643,
           7993.509142598694,
           17080.253412734775,
           14287.48095238095,
           523.2186174724411,
           20195.66616077249,
           14884.700776001857,
           6667.071070234117,
           9567.557188969557,
           12056.977933813308,
           5178.112687405061,
           7351.6704397606045,
           12832.435142248403,
           8580.804761904763,
           16871.81446269086,
           13502.33901515152,
           18403.560606060608,
           11826.375081116159,
           6075.315258950295,
           10636.422131147541,
           4068.4667238421953,
           7211.666666666668,
           9729.711642411641,
           20297.605021728632,
           9988.502251080967,
           29791.3568627451,
           7508.325241307488,
           19848.590771748706,
           13397.585858585859,
           7270.624517374519,
           9415.17741935484,
           11727.907407407409,
           6423.77650273224,
           24600.88461538461,
           6102.414141414141,
           9584.065359477125,
           11301.029804000807,
           19141.956603773586,
           5364.710197368421,
           6266.113808509668,
           21919.0561295332,
           16021.972988505753,
           6714.166749516709,
           9342.62619047619,
           42426.812292956936,
           11572.651587193766,
           16801.170199403357,
           29348.009204188857,
           8496.490421455937,
           8828.834065934067,
           8813.84375,
           28959.03508771929,
           14235.020307070889,
           11995.814830346932,
           18015.32727272727,
           6326.846153846152,
           63556.154132337746,
           8331.727272727274,
           5169.9794871794875,
           58959.206403659235,
           20537.307526881716,
           9005.763173652695,
           5488.3888888888905,
           6137.2033064516145,
           7959.19481270578,
           24815.48354037267,
           15367.247673536913,
           17245.214285714286,
           9757.35,
           11694.54804098211,
           5143.702702702703,
           12549.126190476192,
           10245.97655278017,
           10468.450526315792,
           8855.69331585845,
           6100.087343690793,
           43100,
           6473.799999999999,
           10748.922040534315,
           14204.49019607843,
           22206.372381424644,
           12237.42102396514,
           14303.095256986686,
           10455.593548387096,
           12169.57277029266,
           30604.991075134916,
           17398.715789473685,
           11601.9985701576,
           14744.826844642197,
           8394.944673397898,
           13273.583333333332,
           6485.1450549450565,
           10565.327911515942,
           19307.1,
           27021.319767441862,
           13410.279930124223,
           14206.520251778875,
           9297.592307692306,
           40468.62549454113,
           46054.89854100285,
           10790.430091743117,
           8769.91773897059,
           7303.390866614753,
           16984.8,
           21541.063909774428,
           25815.61764705882,
           15974.535714285714,
           11636.111785004709,
           8575.978160919538,
           11555.865612648224,
           26969.026574346288,
           14355.367720883536,
           8781.067462686568,
           7935,
           5761.688289426198,
           39150.63591836735,
           6337.875577400773,
           49073.769230769234,
           8565.245700245701,
           8640.08552631579,
           1587.0318181818184,
           10614.89,
           12637.38434134888,
           10493.003809523809,
           10779.74779116466,
           42916.13913043478,
           3250.241666666666,
           7367.874603174605,
           11542.619047619046,
           18839.76024034113,
           8315.706595744681,
           8080.050420168068,
           8361.280672732286,
           1573.0931122448965,
           8191.597570932841,
           15482.811000036087,
           11604.914025297621,
           7203.889630996311,
           6312.596926713948,
           31401,
           21134.668678739105,
           7086.868181818181,
           9440.769196025294,
           15408.58031783579,
           29942.044464609804,
           2971.4444444444443,
           7794.096990803644,
           14361.029594255786,
           19065.424598623853,
           33080.28065072183,
           32196.583916083917,
           264.74047619047633,
           10210.790279027904,
           8231.250584795322,
           21301.932192290697,
           17016.608147949606,
           10044.959611618797,
           34814.00544314572,
           6713.772985519296,
           18477.134920634926,
           11375,
           9319.147186147187,
           6327.611494659821,
           12430.93863511282,
           15808.309342654342,
           1584.3516483516469,
           11106.601990049749,
           24002.877995642702,
           8710.388888888889,
           6024.351807228915,
           11240.599999999999,
           10800.590038657741,
           16419.03846153846,
           16697.865191826524,
           11607.390054054053,
           6992.62091503268,
           73969.94047619047,
           11015.5,
           11659.17306122449,
           12543.324675324675,
           20212.241918574175,
           34845.04556073177,
           13874.847963800901,
           9101.244565217392,
           8096.010018514095,
           14503.401839178787,
           7792.026907001047,
           13468.473375501337,
           11840.784615384619,
           25700.852402745993,
           15878.2321137416,
           8013.228917650045,
           6156.828368794327,
           11408.59448416752,
           20519.645267791635,
           12872.177717019822,
           14083.199999999997,
           5681.259211927583,
           16661.470588235294,
           23536.771692092603,
           18678.985558799075,
           7370.447552447553,
           11949.033333333333,
           4938.121212121212,
           9234.298807281857,
           8849.067241379309,
           8519.571621187799,
           8120.6875,
           35373.32717569787,
           6851.003861003863,
           15972.999999999996,
           23353.41241241241,
           11516.622818152966,
           16713.895833333332,
           6106.876923076921,
           8780.279052052476,
           4696.650730987811,
           5970.032394366197,
           19904.718531468534,
           9983.208173690931,
           10370.413071895424,
           13506.310056373888,
           10367.578253137894,
           11043.38580858086,
           14090.259740259746,
           7190.988888888889,
           5957.037251194266,
           10263.833992094864,
           25621.303571428572,
           9756.234848484848,
           8467.786324786324,
           6811.5502392344515,
           9715.355862068966,
           34494,
           20144.50806982872,
           8465.710554333167,
           103145.70864291611,
           21972.87416267943,
           7076.289435069701,
           5982.837037037036,
           5540.359375,
           12294.233415409282,
           2617.645390070924,
           5714.554334650855,
           4473.094838709676,
           16014.344625250851,
           9195.142299709427,
           9812.26936026936,
           6315.304421768708,
           19768.60769230769,
           7246.913781877374,
           21895.266231481153,
           29220.47823668475,
           16725.399334731912,
           8597.262598782225,
           53794.38181818182,
           14387.50988638504,
           12550.224242424243,
           29311.72875888068,
           14498.063636363633,
           24429.127325581394,
           5935.823232323231,
           14105.955748135148,
           18305.21735395189,
           27239.913043478256,
           16062.8,
           5327.386666666665,
           45363.47619047618,
           100274.05598286373,
           8111.1558441558445,
           5842.591917702408,
           6424.444444444445,
           10898.558452481077,
           12771.086627906978,
           6000,
           5059.1057692307695,
           7633.484126984125,
           15611.513716108453,
           25880.098972922504,
           36179.93778415889,
           7722.110389610389,
           974.6846153846145,
           10885.70852017937,
           12035.077280405407,
           5708.972767165722,
           18494.803030303032,
           11697.617838885955,
           16604.68052641821,
           14202.786092520822,
           7225.796551724137,
           1755.2847619047616,
           5194.4787878787865,
           19371.19909387998,
           3580.5241820768133,
           35963.919191919194,
           16395.08041666667,
           10103.19831907436,
           5115.61862745098,
           25633.333333333336,
           14641.662385503783,
           13088.322105263158,
           6619.935885167462,
           13434.449999999997,
           8924.001960784315,
           3783.2199699699704,
           9134.695081743037,
           9123.333333333336,
           3911.9733333333324,
           6298.471428571429,
           10331.220982142859,
           19866.693381728775,
           13724,
           17415.269113149847,
           5371.111961722489,
           10645.212164707991,
           19136.203871748337,
           214.98910196840006,
           12677.78866548829,
           15677.574933095453,
           14474.352638352637,
           11021.089460784313,
           24541.830357142855,
           3716.666666666668,
           11609.432217532143,
           25753.185783374396,
           19607.313179347824,
           17840.727272727272,
           16849.1212780547,
           25904.141140165666,
           11643.174440622744,
           5563.953835227272,
           23596.167619410568,
           4650.888470571976,
           11544.775641025644,
           7825.5341074020325,
           15538.866483516482,
           12480.381113460182,
           8146.851949685533,
           16033.174472807994,
           9619.698547925895,
           16778.64968221096,
           3949.645161290323,
           20461.784247120642,
           2708.7084639498426,
           13447.53333333333,
           5589.094789704959,
           21059.881284153,
           11012.62650050136,
           37910.25481088255,
           5170.994708994709,
           13076.378710771842,
           6468.541871921181,
           9984.505016182295,
           31744.664231778414,
           15658.139743589745,
           6380.5,
           8863.903006226707,
           8326.477272727272,
           9342.768421052631,
           9726.426666666664,
           8860.371432378415,
           8650.64986655429,
           11796.880000000001,
           18927.94839942666,
           7960,
           6689.041467304625,
           15798.945993031357,
           12428.978776322336,
           8574.216666666667,
           11860.597124035987,
           10277.747347343924,
           15940.333333333332,
           16122.222222222223,
           13292.807047296024,
           33310.96759662888,
           17850.66756272401,
           7000.042207792207,
           11106.794117647056,
           5858.507689057878,
           13269.769068226458,
           17218.55888888889,
           6319.9285714285725,
           19835.803113553113,
           17720.5409686121,
           11058.681451612902,
           11789.825396825398,
           10748.196117804553,
           12466.624484243937,
           11250.553852377954,
           8226.695343050123,
           8824.356338028167,
           9233.444444444445,
           16519.037976561336,
           10655.049999999996,
           44222.89276803122,
           14647.585858585859,
           19954.61493999214,
           22318.33225849345,
           10151.437246963564,
           7654.480519480521,
           14606.132604478928,
           31258.690476190477,
           41355.80862969513,
           16585.20652173913,
           9121.657407407407,
           10097.691715994575,
           2480.1612903225796,
           1169.8830769230772,
           14445.870104482645,
           24292.293386741512,
           7280.176237623763,
           7266.312781954888,
           10798.3526534605,
           11409.657142857144,
           15145.991806905207,
           7448.633689839573,
           15618.82311849216,
           9422.281130634074,
           10093.214285714286,
           10580.282231598687,
           26536.245221445224,
           18868.77808695652,
           7682.014755197853,
           7854.926259592927,
           13806.11671121293,
           11783.919525443107,
           31733.531203931205,
           32075.345165745857,
           14407.794573643412,
           9949.103647944412,
           20218.891402714933,
           14284.398403128562,
           28965.41994750656,
           16959.59090909091,
           2052.498102466794,
           12423.157894736843,
           33207.53870625663,
           28987.627272727274,
           12991.937178279253,
           12631.331845238095,
           6148.784090909092,
           7057.585858585859,
           24045.07466063348,
           17998.648648648646,
           3775.7688888888915,
           19893.81212121212,
           31931.333269415154,
           83083.54700854702,
           14844.643512450853,
           6464.986486486487,
           12113,
           383.55403681428834,
           1858.6785714285725,
           7986.629896873652,
           13794.910624953336,
           50342.418103448275,
           8381.668101761254,
           15356.812462108366,
           26366.00202443324,
           29434.24675324675,
           36802.51698952048,
           27655.05336871591
          ],
          "sizemode": "area",
          "sizeref": 13.600974869041693,
          "symbol": "circle"
         },
         "mode": "markers",
         "name": "",
         "orientation": "v",
         "showlegend": false,
         "type": "scatter",
         "x": [
          23124.873646209388,
          38091.875,
          35968.230769230766,
          47134.19626168224,
          42802.96923076923,
          50588,
          24772.436619718308,
          49668.95283018868,
          63169.59581881533,
          20136.73846153846,
          27778.49393939394,
          53481.00378310215,
          17397.55744680851,
          16842.91304347826,
          11055.134328358208,
          33859.08888888889,
          26189.98305084746,
          49466.08928571428,
          38917.16312056738,
          28958.987238386933,
          39686.604838709674,
          15354.242105263158,
          47475.7890625,
          34628.5,
          47122.512779552715,
          32875.25,
          39638.32203389831,
          44426.05737704918,
          52190.18630136986,
          24786.372159090908,
          31865.679577464787,
          50812.48275862069,
          30906.882352941175,
          116902.81521739131,
          50868.81904761905,
          18101.46153846154,
          34251.8125,
          58637.75218427323,
          15146.731481481482,
          27705.457142857143,
          24005.36,
          60915.26739130435,
          14701.6,
          28144.714285714286,
          35539.2347826087,
          52893.08653846154,
          79551.90438247012,
          46010.17391304348,
          52881.26946107784,
          32170.123076923075,
          29331.760869565216,
          16329.555555555555,
          19066.339285714286,
          45995.78571428572,
          84191.06818181818,
          19866.98181818182,
          15841.587155963303,
          42672.49736147757,
          34782.045454545456,
          36752.260869565216,
          9093.42857142857,
          18983.35935706085,
          24467.149253731342,
          10681.1,
          69664.26530612246,
          31688.909090909092,
          41546.62704918033,
          34328.02352941177,
          45255.769230769234,
          95585.38173302107,
          22501.936708860758,
          60228.01739130435,
          22701.333333333332,
          12734.875,
          37514.72388059701,
          71957.68707482993,
          62785.211267605635,
          74544.104,
          14736.96261682243,
          46811.186046511626,
          64021.25,
          49000.41916167665,
          60272.73429951691,
          34305.98901098901,
          26721.928571428572,
          38673.42168674699,
          25979.026490066226,
          28200.905660377357,
          15459.963768115942,
          72215.98653198653,
          24138.46153846154,
          14354.709677419354,
          18150.39814814815,
          7225,
          52528.10298102981,
          37805.1,
          29510.77868852459,
          23019.714285714286,
          45296.13043478261,
          32810.66086956522,
          49638.23391812865,
          12133.692307692309,
          20513.157894736843,
          42939.556195965415,
          14500,
          41401.666666666664,
          15509.95,
          23576.88775510204,
          16876.375,
          50265.43396226415,
          51187.121495327105,
          26058.21198156682,
          16070.1875,
          59091.38461538462,
          23382.975609756097,
          75047.74141221374,
          11462.266666666666,
          22644.096153846152,
          17905.77743902439,
          18847.82222222222,
          44821.541935483874,
          24791.08647798742,
          41196.70652173913,
          27012.75,
          61143.074380165286,
          33455.40969899666,
          41552.38461538462,
          66347.62416107382,
          64153.18486012068,
          57822.12785388128,
          30660.19801980198,
          31693.51094890511,
          55544.09308510638,
          15647.216666666667,
          34328.02352941177,
          35875.13679245283,
          21412.553956834534,
          47323.77714285714,
          35530.42307692308,
          46049.933333333334,
          94524.67130434782,
          54195.71428571428,
          31091.128472222223,
          26869.358208955226,
          59257.51111111111,
          22406,
          18940,
          19008.039215686276,
          14561.728813559323,
          50935.08450704225,
          99728.1164021164,
          21099.092436974788,
          15316.666666666666,
          23453.906976744187,
          16529.310924369747,
          44303.545454545456,
          13259.703703703704,
          39400.0824742268,
          74551.16666666667,
          42889.7027027027,
          49701.805194805194,
          57262.793650793654,
          76555.3,
          66430.44370860927,
          76710.1948051948,
          18427.691943127964,
          34257.67901234568,
          101500,
          53926.555555555555,
          25386.5871559633,
          17801.38418079096,
          21740.141176470588,
          37291.75548245614,
          33935.40131578947,
          34726.541666666664,
          50898.69,
          15619.462962962964,
          40016.66467065868,
          65037.275466284074,
          76196.48180242634,
          27567.580396475772,
          177808.64227642276,
          24832.12,
          16545.46153846154,
          34791.149700598806,
          28417.11111111111,
          21719.75,
          46645.55411255411,
          26022.828282828283,
          34737.754385964916,
          47624.56,
          57736.53333333333,
          48097.09852941176,
          28691.034013605444,
          41617.904891304344,
          63605.21709006929,
          31759.756756756757,
          55027.06598984772,
          24817.736,
          59835.77142857143,
          63116.852459016394,
          45414.594320486816,
          37865.3359375,
          20852.095238095237,
          14285.458333333334,
          74466.62411347518,
          39161.52237442922,
          15474.90909090909,
          14236.384615384615,
          18879.45945945946,
          17789.926136363636,
          34318.52631578947,
          12945.358490566037,
          29006.97619047619,
          40270.45,
          35269.385,
          46310.31428571429,
          18228.62162162162,
          15369.76923076923,
          16078.114285714286,
          17819.428571428572,
          33867.98936170213,
          42128.01960784314,
          75893.71282051282,
          16125.967391304348,
          22663.666666666668,
          17945.6375,
          42682.289855072464,
          61079.64046822742,
          49776.979118329466,
          21746.742782152232,
          15340.933333333332,
          26252.471449487555,
          10246.641176470588,
          25177.5,
          28835.154545454545,
          48035.357575757575,
          74153.45893719807,
          23858.25541125541,
          70895.64324324325,
          25155.557142857142,
          33948.19083969466,
          55528.61147327249,
          42252.583333333336,
          50205.532608695656,
          32359.725134408603,
          43285.12770339856,
          42723.17799352751,
          16866.368852459018,
          29921.346534653465,
          21528.4,
          86446.05805243446,
          54223.520833333336,
          40573.833333333336,
          22933.940298507463,
          17364.934306569343,
          22627.75,
          11240.181818181818,
          27788.333333333332,
          23792.027027027027,
          54678.394495412846,
          20841.77171215881,
          34328.02352941177,
          45907.200335363166,
          53000.79289940828,
          35500,
          23864.695945945947,
          34999.67741935484,
          21145.90740740741,
          18721.909836065573,
          71317.38461538461,
          16000,
          33832.83006535948,
          24728.19306930693,
          61991.9,
          13281.63125,
          11782.642679900744,
          76933.06629213483,
          65477.38965517242,
          26209.464788732395,
          15411.15,
          70341.47641509434,
          39831.92609699769,
          43671.13989637305,
          69054.52992957746,
          19363.379310344826,
          18402.476923076923,
          21813.84375,
          68918.36842105263,
          37789.38379657008,
          30823.422480620156,
          41863.72727272727,
          31951.846153846152,
          131493.54453441297,
          22589.545454545456,
          13019.846153846154,
          87260.36363636363,
          52522.97419354838,
          15764.35,
          20407.38888888889,
          17265.663306451614,
          29564.508843886182,
          52587.85,
          74435.77528089887,
          48248.07142857143,
          17273,
          35878.23487544484,
          12336.702702702703,
          21720.65,
          25530.930041152264,
          66342.64,
          50376.550458715596,
          26275.862068965518,
          50000,
          16803.3,
          38053.2874251497,
          40299.07352941176,
          45115.35080645161,
          29479.16176470588,
          36645.587719298244,
          41172.51612903226,
          49232.552780395854,
          63651.3698630137,
          45478.98245614035,
          45861.90035587188,
          42579.67741935484,
          15541.45652173913,
          18676.25,
          19818.914285714287,
          31023.603773584906,
          40580,
          50062.56976744186,
          35743.46875,
          35174.32183908046,
          41619.99230769231,
          85587.85731272295,
          94823.0895522388,
          18382.110091743118,
          19591.143229166668,
          19167.059405940596,
          25484.8,
          80288.34412955465,
          53188.294117647056,
          32683.25,
          35274.2213740458,
          20467.67816091954,
          51533.242424242424,
          77709.73309608542,
          23197.729166666668,
          23160.507462686568,
          17905,
          34624.64417177914,
          106880.79591836735,
          18636.717086834735,
          67000,
          40039.97297297297,
          21075.875,
          16010.85,
          35881.29,
          26014.877094972067,
          36746.81333333333,
          30002.614457831325,
          62978.260869565216,
          11389.041666666666,
          19280.38888888889,
          34792.142857142855,
          53480.01376146789,
          15335.27659574468,
          15490.764705882353,
          18482.495726495727,
          47602.72321428572,
          29200.967136150233,
          46880.86776859504,
          52308.06640625,
          18505.29,
          20604.81914893617,
          54750,
          43202.80952380953,
          12519.984848484848,
          23761.69512195122,
          35195.968253968254,
          66246.07894736843,
          10722.777777777777,
          17828.08620689655,
          78639.6645396536,
          50926.01834862385,
          70276.95098039215,
          49483.545454545456,
          18912.809523809523,
          28451.909090909092,
          39958.86111111111,
          94057.34237995825,
          56835.681318681316,
          44584.4908616188,
          83589.71550032702,
          56531.37102473498,
          51334.27777777778,
          15975,
          32409.541125541127,
          27128.81784386617,
          57937.873417721516,
          60594.82422451994,
          12484.57142857143,
          28427.333333333332,
          65388.07407407407,
          20256.055555555555,
          15965.951807228916,
          24542.92,
          33043.36128048781,
          39814,
          56208.196100917434,
          36928.136,
          14162.176470588236,
          90782.75,
          28066.5,
          31987.65306122449,
          35099.46753246753,
          78199.02542372882,
          83562.9421875,
          55146.294117647056,
          13597.869565217392,
          32636.023411371236,
          35219.50898203593,
          24266.367816091955,
          31082.42944785276,
          40450.88461538462,
          64648.32608695652,
          55384.1970260223,
          25610.457746478874,
          10762.466666666667,
          21741.909090909092,
          41947.879310344826,
          29953.684210526317,
          39083.2,
          25910.32587859425,
          31638.117647058825,
          79382.12981045376,
          56221.7514450867,
          16591.909090909092,
          31399.933333333334,
          13173.121212121212,
          24143.372881355932,
          20628.55,
          39645.6316211878,
          52996.9375,
          88319.60098522168,
          17499.432432432433,
          32864.666666666664,
          42681.59259259259,
          44305.948905109486,
          23713.5625,
          27567.8,
          35167.94964028777,
          29606.218298555377,
          18303.732394366198,
          54640.92307692308,
          18219.26851851852,
          22785.013071895424,
          33546.307692307695,
          54722.63251670379,
          31266.752475247526,
          53335.454545454544,
          20835.18888888889,
          29481.9671875,
          30620.652173913044,
          65849.875,
          21545.484848484848,
          18270.555555555555,
          17778.18181818182,
          26523.275862068964,
          41994,
          85317.43560606061,
          25359.792746113988,
          125768.6091954023,
          41898.57272727273,
          16620.672413793105,
          17729.287037037036,
          16721.859375,
          37617.11077389985,
          26091.666666666668,
          17361.527667984188,
          23002.254838709676,
          49819.97133757962,
          36707.30593607306,
          22161.814814814814,
          12372.887755102041,
          30992.80769230769,
          14778.068421052632,
          52502.02866242038,
          74688.44555694619,
          58198.56414103526,
          37740.5421686747,
          22340.8,
          40812.24022346369,
          58420.13333333333,
          78252.81140350878,
          33409.472727272725,
          46862.825,
          14137.156565656565,
          31752.84528301887,
          58548.634020618556,
          79010.08695652174,
          26729,
          24597.12,
          77030.14285714286,
          157311.57402234638,
          20338.428571428572,
          20792.432343234323,
          16744.444444444445,
          23687.241379310344,
          24254.575,
          15800,
          15669.23076923077,
          18249.555555555555,
          34197.22424242424,
          83792.07936507936,
          84639.17587939698,
          18913.61038961039,
          12689.884615384615,
          30666.70852017937,
          29490.671875,
          20491.107382550337,
          31346.636363636364,
          52248.97267759563,
          59825.29283110571,
          44444.39088729017,
          23472.896551724138,
          5249.633333333333,
          13423.933333333332,
          41473.61323529412,
          16190.105263157895,
          58066.333333333336,
          67092.76041666667,
          28182.905325443786,
          14793.485294117647,
          41333.333333333336,
          68725.09139784946,
          27879.98,
          20940.327272727274,
          41593.6,
          18901.401960784315,
          39025.13888888889,
          41701.52302631579,
          28250,
          9686.64,
          13494.57142857143,
          29847.578125,
          43947.85873605948,
          36421.380952380954,
          43347.935779816515,
          15606.511961722488,
          29381.88732394366,
          61873.0459770115,
          38207.09022556391,
          42522.48387096774,
          40998.36440677966,
          39876.19047619047,
          24840.520833333332,
          82858.4375,
          26283.333333333332,
          49220.00598802395,
          56769.02564102564,
          48933.391304347824,
          32200.5,
          50769.87380330722,
          63671.85106382979,
          35329.71215351812,
          15063.4765625,
          53074.69105691057,
          41751.28457446808,
          35572.044871794875,
          31925.22641509434,
          43452.230769230766,
          35190.43565891473,
          22840.44,
          34328.02352941177,
          20972.50366972477,
          43668.239234449764,
          11008,
          45807.103524229075,
          28050.344827586207,
          42789.73333333333,
          23348.57627118644,
          60462.25833333333,
          32602.385474860333,
          80574.07299270073,
          54313.851851851854,
          40894.15648854962,
          32667.827586206895,
          45868.91231101512,
          73682.00992555832,
          56886.67307692308,
          13972,
          20096.660231660233,
          20762.25,
          30500.4,
          21459.76,
          20399.94105263158,
          39186.23716814159,
          20795.88,
          46414.69565217391,
          41475,
          14075.859649122807,
          43816.71428571428,
          22549.276073619632,
          59866.666666666664,
          42083.94087403599,
          52823.32831325301,
          25390.333333333332,
          27122.222222222223,
          32343.298850574713,
          106667.3063063063,
          43156.11111111111,
          16934.113636363636,
          36738.794117647056,
          61115.79657794677,
          39039.587759815244,
          40141.253333333334,
          13895.238095238095,
          45278.32692307692,
          42334.791914387635,
          23040.8064516129,
          24984.444444444445,
          26601.38888888889,
          44224.6608478803,
          25249.76530612245,
          27239.350515463917,
          21484.056338028167,
          15619.777777777777,
          39529.67289719626,
          53231.15909090909,
          90315.22929447853,
          36750,
          91735.75913694408,
          63391.34911242603,
          16611.384615384617,
          19887.909090909092,
          21570.188679245282,
          50001.357142857145,
          100425.7453580902,
          43460.95652173913,
          24006.75,
          23250.448529411766,
          18240.16129032258,
          31694.96,
          52081.98604651163,
          66626.32862903226,
          14763.376237623763,
          22697.22857142857,
          43563.617021276594,
          34527.014285714286,
          50846.733231707316,
          18959.08823529412,
          57981.34163701068,
          17637.987012987014,
          18093.214285714286,
          22459.430379746835,
          55840.527272727275,
          45360.252,
          18205.6338028169,
          16533.493827160495,
          38539.721649484534,
          36544.42424242424,
          41137.56756756757,
          77674.37016574586,
          75130.12790697675,
          20846.090909090908,
          37757.53846153846,
          45314.69252077562,
          77401.08661417323,
          58335.59090909091,
          18978.145161290322,
          32642,
          58722.756097560974,
          35401.72727272727,
          24315.002717391304,
          23131.308035714286,
          17510.909090909092,
          29160,
          85208.88235294117,
          39989.05405405405,
          24406.88888888889,
          41507.878787878784,
          80803.62857142858,
          108210.55555555556,
          32910.35779816514,
          20014.986486486487,
          12887,
          16137.661016949152,
          30302.25,
          18310.79299847793,
          37304.254237288136,
          69408.625,
          19535.41095890411,
          41534.58392675483,
          75186.47827701448,
          65659.06493506493,
          77331.98507462686,
          87012.67801857585
         ],
         "xaxis": "x",
         "y": [
          12962.54,
          8890.48,
          20293.75,
          35828.368055555555,
          24745.752808988764,
          54423.444444444445,
          17812.933333333334,
          33015.17931034483,
          45412.27272727273,
          13097.41935483871,
          15051.69366197183,
          35951.43265306122,
          10491.079166666666,
          7942.333333333333,
          8633.583333333334,
          26041.570652173912,
          12960.22,
          30850.708333333332,
          26966.576,
          19438.301180208808,
          22722.0564516129,
          8867,
          33243.298507462685,
          18697.941176470587,
          26540.679144385027,
          25970.4,
          28091.571428571428,
          32977.49097291876,
          37299.457364341084,
          16293.580838323353,
          21301.842105263157,
          23509.84872471416,
          17400,
          35180.47818930041,
          28837.840220385675,
          12070.195426195427,
          20312.285714285714,
          39422.00464037123,
          9086.72340425532,
          14253.914285714285,
          14967.820895522387,
          38713.98265895954,
          10000,
          18310,
          19131.754716981133,
          32627.684210526317,
          49419.750507099394,
          27344.529411764706,
          36393.08870967742,
          18500.5,
          24542.65625,
          9703.777777777777,
          12173.736842105263,
          29866.666666666668,
          39484.620689655174,
          10702.666666666666,
          8788.96052631579,
          24540.815789473683,
          25158,
          35473.2,
          10375,
          9275.012987012988,
          11847.142857142857,
          8150,
          43500,
          20734.923076923078,
          30695.016129032258,
          16900,
          24334,
          44034.9742002064,
          14145.947368421053,
          23427.53043478261,
          13646.444444444445,
          8360,
          28498.072463768116,
          34004.792372881355,
          45471.58,
          48796.98181818182,
          13662.545454545454,
          33698.055555555555,
          63500,
          41555.204545454544,
          37602.393939393936,
          22031.013986013986,
          13223.166666666666,
          27097.341384863124,
          13092.700315457414,
          15854.582278481013,
          10137.135057471265,
          51207.68944099379,
          9150.537037037036,
          7522.7692307692305,
          10112.90909090909,
          4800,
          37593.20754716981,
          19186.044776119405,
          19067.885714285716,
          12239,
          20872.454545454544,
          21351.238095238095,
          40893.19277108434,
          4700.5,
          11300.863636363636,
          28054.41414141414,
          22102.41414141414,
          26646.52380952381,
          6248.708333333333,
          15339.75,
          7624,
          30128.333333333332,
          51740,
          11739.959183673469,
          22102.41414141414,
          33261.63636363636,
          23811.739130434784,
          54420.683673469386,
          4263.388888888889,
          11527.363636363636,
          8720.491891891892,
          10590.454545454546,
          35668,
          14866.762836185819,
          23901.738095238095,
          19339.117647058825,
          42266.32692307692,
          22037.065789473683,
          30267.37037037037,
          40683.88151658768,
          47451.382204246715,
          43374.52631578947,
          17256.550458715596,
          25417.53846153846,
          35367.957787481806,
          8851.342857142858,
          8500,
          22465.02923976608,
          11532.617647058823,
          32967.57021276596,
          30623.6503131524,
          46947.57377049181,
          61115.81489361702,
          47335.69026548672,
          20189.525581395348,
          15988.779475982532,
          34263.8615916955,
          11499.684210526315,
          22102.41414141414,
          8570.533333333333,
          11085.857142857143,
          29328.43870967742,
          80894.3566878981,
          13585.714285714286,
          4760,
          11371.222222222223,
          6374.788461538462,
          43731.28571428572,
          9818.5,
          25054.363636363636,
          36905.64948453608,
          25539.809859154928,
          35893.354838709674,
          41560.08,
          31432.44827586207,
          28534.43396226415,
          43000.709677419356,
          9797.925373134329,
          23442.235294117647,
          50700,
          33425.95,
          18868.909090909092,
          7500.477718360071,
          14799.153846153846,
          23474.987451737452,
          27883.04117647059,
          16600.04,
          42011.282051282054,
          6627.487603305785,
          27798.297872340427,
          55847.51724137931,
          45355.56415929204,
          25397.979166666668,
          41798.893586005834,
          13830.944444444445,
          7941.613636363636,
          22284.075,
          11007.603448275862,
          12091.5,
          34362.08071748879,
          13110.672131147541,
          18805.91139240506,
          32485.53125,
          44687.27272727273,
          38297.57258064516,
          18832.846666666668,
          26946.571428571428,
          42479.04254112308,
          24559.583333333332,
          34919.5847826087,
          14656.64,
          33097.20652173913,
          32223.99074074074,
          25143.86815920398,
          33438.09523809524,
          10720,
          6519.0344827586205,
          55058.82840236687,
          27627.103723404256,
          6930.727272727273,
          5284.345454545454,
          13391.59298245614,
          11110.145161290322,
          18623.375,
          8912.367704280156,
          15182.513157894737,
          25252.79908675799,
          18226.854166666668,
          38594.8,
          9683.235294117647,
          7819.222222222223,
          9818.761904761905,
          10020.75,
          28595.4011627907,
          30847.666666666668,
          53410.226890756305,
          9481.539682539682,
          10910.190476190477,
          10542.385714285714,
          30005.30612244898,
          45425.779352226724,
          31028.900332225912,
          12803.846153846154,
          14569.64,
          15376.612571428572,
          5216.2307692307695,
          15610,
          17742.236363636363,
          44440.625,
          57599.227642276426,
          15864.746268656716,
          53815.38983050847,
          10868.076190476191,
          33424.97222222222,
          35332.9453125,
          27367.88255733148,
          43538.46153846154,
          22792.167945439047,
          31228.149769585252,
          37545.06530612245,
          9514.698412698413,
          17088.91139240506,
          12947.595238095239,
          69574.2435897436,
          40721.181818181816,
          22170.272727272728,
          11107.565217391304,
          11289.619047619048,
          11991.327868852459,
          7171.715094339623,
          35000,
          14062.315384615385,
          34380.78947368421,
          10853.269461077844,
          4536.666666666667,
          38398.87509405568,
          33152.20212765958,
          22102.41414141414,
          16594.071428571428,
          25584.5,
          9418,
          12298.133333333333,
          46716.5,
          22102.41414141414,
          24248.764705882353,
          13427.163265306122,
          42849.943396226416,
          7916.921052631579,
          5516.528871391076,
          55014.010162601626,
          49455.416666666664,
          19495.298039215686,
          6068.523809523809,
          27914.664122137405,
          28259.274509803923,
          26869.969696969696,
          39706.520725388604,
          10866.888888888889,
          9573.642857142857,
          13000,
          39959.333333333336,
          23554.363489499192,
          18827.607650273225,
          23848.4,
          25625,
          67937.39040207522,
          14257.818181818182,
          7849.866666666667,
          28301.1572327044,
          31985.666666666668,
          6758.586826347306,
          14919,
          11128.46,
          21605.3140311804,
          27772.36645962733,
          59068.52760736196,
          31002.85714285714,
          7515.65,
          24183.68683446273,
          7193,
          9171.52380952381,
          15284.953488372093,
          55874.18947368421,
          41520.857142857145,
          20175.774725274725,
          6900,
          10329.5,
          27304.365384615383,
          26094.583333333332,
          22908.97842502697,
          17241.74074074074,
          22342.49246231156,
          30716.92258064516,
          37062.980010103194,
          33046.378787878784,
          28080.266666666666,
          34259.90178571428,
          27834.850574712644,
          7146.5118483412325,
          5402.666666666667,
          13333.76923076923,
          20458.275862068964,
          21272.9,
          23041.25,
          22333.188819875777,
          20967.801587301587,
          32322.4,
          45119.23181818182,
          48768.191011235955,
          7591.68,
          10821.225490196079,
          11863.668539325843,
          8500,
          58747.28021978022,
          27372.676470588234,
          16708.714285714286,
          23638.109589041094,
          11891.7,
          39977.3768115942,
          50740.70652173913,
          8842.361445783132,
          14379.44,
          9970,
          28862.95588235294,
          67730.16,
          12298.841509433962,
          17926.23076923077,
          31474.727272727272,
          12435.78947368421,
          14423.818181818182,
          25266.4,
          13377.492753623188,
          26253.809523809523,
          19222.866666666665,
          105894.4,
          8138.8,
          11912.514285714286,
          23249.52380952381,
          34640.25352112676,
          7019.57,
          7410.714285714285,
          10121.21505376344,
          49175.816326530614,
          21009.369565217392,
          31398.056768558952,
          40703.15238095238,
          11301.40036900369,
          14292.222222222223,
          23349,
          22068.140845070422,
          5433.116666666667,
          14320.925925925925,
          19787.387936132465,
          36304.03448275862,
          7751.333333333333,
          10033.989216092907,
          64278.63494539782,
          31860.59375,
          37196.67032967033,
          17286.96153846154,
          19177.55,
          18241.118811881188,
          31727.610526315788,
          72755.41018766756,
          39819.07317073171,
          34539.53125,
          48775.7100571813,
          49817.598039215685,
          32857.142857142855,
          4600,
          23090.39393939394,
          20801.20634920635,
          45506.934782608696,
          44786.5148818656,
          14068.923076923076,
          17320.731343283584,
          41385.19607843137,
          11545.666666666666,
          9941.6,
          13302.32,
          22242.771241830065,
          23394.96153846154,
          39510.33090909091,
          25320.745945945946,
          7169.555555555556,
          16812.809523809523,
          17051,
          20328.48,
          22556.14285714286,
          57986.78350515464,
          48717.896626768226,
          41271.446153846155,
          4496.625,
          24540.01339285714,
          20716.10714285714,
          16474.340909090908,
          17613.956072351422,
          28610.1,
          38947.47368421053,
          39505.9649122807,
          17597.22882882883,
          4605.63829787234,
          10333.314606741573,
          21428.23404255319,
          17081.506493506495,
          25000,
          20229.066666666666,
          14976.64705882353,
          55845.35811836115,
          37542.76588628763,
          9221.461538461539,
          19450.9,
          8235,
          14909.074074074075,
          11779.48275862069,
          31126.06,
          61117.625,
          52946.27380952381,
          10648.42857142857,
          16891.666666666668,
          19328.18018018018,
          32789.32608695652,
          6999.666666666667,
          21460.923076923078,
          26387.670588235294,
          24909.567567567567,
          12333.7,
          34736.204545454544,
          8236.060344827587,
          12414.6,
          20039.997635933807,
          44355.05426356589,
          20223.366666666665,
          67425.71428571429,
          13644.2,
          23524.929936305733,
          20356.81818181818,
          40228.57142857143,
          11789.25,
          9802.76923076923,
          10966.631578947368,
          16807.92,
          7500,
          65172.92753623189,
          16894.08219178082,
          22622.90055248619,
          19925.698564593302,
          9544.382978723404,
          11746.45,
          11181.5,
          25322.877358490565,
          23474.021276595744,
          11646.973333333333,
          18529.16,
          33805.62671232877,
          27512.163636363635,
          12349.545454545454,
          6057.583333333333,
          11224.2,
          7531.154639175258,
          30606.762430939227,
          45467.967320261436,
          41473.16480630335,
          29143.279569892475,
          76135.18181818182,
          26424.73033707865,
          45869.90909090909,
          48941.0826446281,
          18911.409090909092,
          22433.697674418603,
          8201.333333333334,
          17646.88953488372,
          40243.416666666664,
          106250,
          10666.2,
          19269.733333333334,
          31666.666666666668,
          57037.51803948264,
          12227.272727272728,
          14949.840425531915,
          10320,
          12788.682926829268,
          11483.488372093023,
          9800,
          10610.125,
          10616.07142857143,
          18585.71052631579,
          57911.98039215686,
          48459.23809523809,
          11191.5,
          11715.2,
          19781,
          17455.594594594593,
          14782.134615384615,
          12851.833333333334,
          40551.354838709674,
          43220.6123046875,
          30241.604794769344,
          16247.1,
          3494.3485714285716,
          8229.454545454546,
          22102.41414141414,
          12609.581081081082,
          22102.41414141414,
          50697.68,
          18079.707006369426,
          9677.866666666667,
          15700,
          54083.42901234568,
          14791.657894736842,
          27560.263157894737,
          28159.15,
          9977.4,
          35241.91891891892,
          32566.82794457275,
          37373.333333333336,
          5774.666666666667,
          7196.1,
          19516.35714285714,
          24081.165354330707,
          22697.380952380954,
          25932.666666666668,
          10235.4,
          18736.67515923567,
          42736.84210526316,
          37992.10112359551,
          29844.695205479453,
          25320.78947368421,
          25401.837837837837,
          13819.43137254902,
          58316.607142857145,
          30000,
          37610.57377049181,
          31015.839857651245,
          29326.078125,
          14359.772727272728,
          33920.75252525252,
          37767.70992366412,
          23686.537712895377,
          9499.522727272728,
          29478.5234375,
          37100.396103896106,
          24027.26923076923,
          24099.69230769231,
          27913.364285714284,
          22710.054545454546,
          14693.588050314465,
          18294.849056603773,
          11352.805121798876,
          26889.589552238805,
          7058.354838709677,
          25345.319277108432,
          25341.636363636364,
          29342.2,
          17759.48148148148,
          39402.37704918033,
          21589.758974358974,
          42663.818181818184,
          49142.857142857145,
          27817.777777777777,
          26199.285714285714,
          35884.407294832825,
          41937.345693779906,
          41228.53333333333,
          7591.5,
          11232.757225433526,
          12435.772727272728,
          21157.63157894737,
          11733.333333333334,
          11539.569620253165,
          30535.5873015873,
          8999,
          27486.747252747253,
          33515,
          7386.818181818182,
          28017.768292682926,
          10120.297297297297,
          51292.45,
          30223.34375,
          42545.58096590909,
          9450,
          11000,
          19050.491803278688,
          73356.33870967742,
          25305.4435483871,
          9934.07142857143,
          25632,
          55257.28888888889,
          25769.818691588785,
          22922.694444444445,
          20215.166666666668,
          25442.52380952381,
          24614.250945775537,
          11982.125,
          13194.619047619048,
          15853.192771084337,
          31758.036363636365,
          13999.211453744494,
          19012.655172413793,
          12659.7,
          6386.333333333333,
          23010.634920634922,
          42576.10909090909,
          46092.33652644731,
          22102.41414141414,
          71781.14419695194,
          41073.01685393258,
          6459.9473684210525,
          12233.42857142857,
          6964.056074766355,
          18742.666666666668,
          59069.93672839506,
          26875.75,
          14885.092592592593,
          13152.75681341719,
          15760,
          30525.076923076922,
          37636.115942028984,
          42334.035242290745,
          7483.2,
          15430.915789473684,
          32765.264367816093,
          23117.35714285714,
          35700.74142480211,
          11510.454545454546,
          42362.51851851852,
          8215.70588235294,
          8000,
          11879.148148148148,
          29304.28205128205,
          26491.47391304348,
          10523.619047619048,
          8678.567567567568,
          24733.604938271605,
          24760.504716981133,
          9404.036363636364,
          45599.025,
          60722.333333333336,
          10896.987261146496,
          17538.647058823528,
          31030.29411764706,
          48435.666666666664,
          41376,
          16925.647058823528,
          20218.842105263157,
          25515.217391304348,
          6414.1,
          11323.06553911205,
          10499.97619047619,
          11362.125,
          22102.41414141414,
          61163.807692307695,
          21990.405405405407,
          20631.12,
          21614.066666666666,
          48872.29530201342,
          25127.008547008547,
          18065.714285714286,
          13550,
          25000,
          16521.21505376344,
          28443.571428571428,
          10324.163101604277,
          23509.3436123348,
          19066.206896551725,
          11153.742857142857,
          26177.771464646463,
          48820.47625258124,
          36224.818181818184,
          40529.46808510638,
          59357.62464985994
         ],
         "yaxis": "y"
        }
       ],
       "layout": {
        "coloraxis": {
         "colorbar": {
          "title": {
           "text": "Income Difference"
          }
         },
         "colorscale": [
          [
           0,
           "#440154"
          ],
          [
           0.1111111111111111,
           "#482878"
          ],
          [
           0.2222222222222222,
           "#3e4989"
          ],
          [
           0.3333333333333333,
           "#31688e"
          ],
          [
           0.4444444444444444,
           "#26828e"
          ],
          [
           0.5555555555555556,
           "#1f9e89"
          ],
          [
           0.6666666666666666,
           "#35b779"
          ],
          [
           0.7777777777777778,
           "#6ece58"
          ],
          [
           0.8888888888888888,
           "#b5de2b"
          ],
          [
           1,
           "#fde725"
          ]
         ]
        },
        "legend": {
         "itemsizing": "constant",
         "tracegroupgap": 0
        },
        "shapes": [
         {
          "line": {
           "color": "gray",
           "dash": "dash"
          },
          "type": "line",
          "x0": 0,
          "x1": 177808.64227642276,
          "y0": 0,
          "y1": 106250
         }
        ],
        "template": {
         "data": {
          "bar": [
           {
            "error_x": {
             "color": "#2a3f5f"
            },
            "error_y": {
             "color": "#2a3f5f"
            },
            "marker": {
             "line": {
              "color": "#E5ECF6",
              "width": 0.5
             },
             "pattern": {
              "fillmode": "overlay",
              "size": 10,
              "solidity": 0.2
             }
            },
            "type": "bar"
           }
          ],
          "barpolar": [
           {
            "marker": {
             "line": {
              "color": "#E5ECF6",
              "width": 0.5
             },
             "pattern": {
              "fillmode": "overlay",
              "size": 10,
              "solidity": 0.2
             }
            },
            "type": "barpolar"
           }
          ],
          "carpet": [
           {
            "aaxis": {
             "endlinecolor": "#2a3f5f",
             "gridcolor": "white",
             "linecolor": "white",
             "minorgridcolor": "white",
             "startlinecolor": "#2a3f5f"
            },
            "baxis": {
             "endlinecolor": "#2a3f5f",
             "gridcolor": "white",
             "linecolor": "white",
             "minorgridcolor": "white",
             "startlinecolor": "#2a3f5f"
            },
            "type": "carpet"
           }
          ],
          "choropleth": [
           {
            "colorbar": {
             "outlinewidth": 0,
             "ticks": ""
            },
            "type": "choropleth"
           }
          ],
          "contour": [
           {
            "colorbar": {
             "outlinewidth": 0,
             "ticks": ""
            },
            "colorscale": [
             [
              0,
              "#0d0887"
             ],
             [
              0.1111111111111111,
              "#46039f"
             ],
             [
              0.2222222222222222,
              "#7201a8"
             ],
             [
              0.3333333333333333,
              "#9c179e"
             ],
             [
              0.4444444444444444,
              "#bd3786"
             ],
             [
              0.5555555555555556,
              "#d8576b"
             ],
             [
              0.6666666666666666,
              "#ed7953"
             ],
             [
              0.7777777777777778,
              "#fb9f3a"
             ],
             [
              0.8888888888888888,
              "#fdca26"
             ],
             [
              1,
              "#f0f921"
             ]
            ],
            "type": "contour"
           }
          ],
          "contourcarpet": [
           {
            "colorbar": {
             "outlinewidth": 0,
             "ticks": ""
            },
            "type": "contourcarpet"
           }
          ],
          "heatmap": [
           {
            "colorbar": {
             "outlinewidth": 0,
             "ticks": ""
            },
            "colorscale": [
             [
              0,
              "#0d0887"
             ],
             [
              0.1111111111111111,
              "#46039f"
             ],
             [
              0.2222222222222222,
              "#7201a8"
             ],
             [
              0.3333333333333333,
              "#9c179e"
             ],
             [
              0.4444444444444444,
              "#bd3786"
             ],
             [
              0.5555555555555556,
              "#d8576b"
             ],
             [
              0.6666666666666666,
              "#ed7953"
             ],
             [
              0.7777777777777778,
              "#fb9f3a"
             ],
             [
              0.8888888888888888,
              "#fdca26"
             ],
             [
              1,
              "#f0f921"
             ]
            ],
            "type": "heatmap"
           }
          ],
          "heatmapgl": [
           {
            "colorbar": {
             "outlinewidth": 0,
             "ticks": ""
            },
            "colorscale": [
             [
              0,
              "#0d0887"
             ],
             [
              0.1111111111111111,
              "#46039f"
             ],
             [
              0.2222222222222222,
              "#7201a8"
             ],
             [
              0.3333333333333333,
              "#9c179e"
             ],
             [
              0.4444444444444444,
              "#bd3786"
             ],
             [
              0.5555555555555556,
              "#d8576b"
             ],
             [
              0.6666666666666666,
              "#ed7953"
             ],
             [
              0.7777777777777778,
              "#fb9f3a"
             ],
             [
              0.8888888888888888,
              "#fdca26"
             ],
             [
              1,
              "#f0f921"
             ]
            ],
            "type": "heatmapgl"
           }
          ],
          "histogram": [
           {
            "marker": {
             "pattern": {
              "fillmode": "overlay",
              "size": 10,
              "solidity": 0.2
             }
            },
            "type": "histogram"
           }
          ],
          "histogram2d": [
           {
            "colorbar": {
             "outlinewidth": 0,
             "ticks": ""
            },
            "colorscale": [
             [
              0,
              "#0d0887"
             ],
             [
              0.1111111111111111,
              "#46039f"
             ],
             [
              0.2222222222222222,
              "#7201a8"
             ],
             [
              0.3333333333333333,
              "#9c179e"
             ],
             [
              0.4444444444444444,
              "#bd3786"
             ],
             [
              0.5555555555555556,
              "#d8576b"
             ],
             [
              0.6666666666666666,
              "#ed7953"
             ],
             [
              0.7777777777777778,
              "#fb9f3a"
             ],
             [
              0.8888888888888888,
              "#fdca26"
             ],
             [
              1,
              "#f0f921"
             ]
            ],
            "type": "histogram2d"
           }
          ],
          "histogram2dcontour": [
           {
            "colorbar": {
             "outlinewidth": 0,
             "ticks": ""
            },
            "colorscale": [
             [
              0,
              "#0d0887"
             ],
             [
              0.1111111111111111,
              "#46039f"
             ],
             [
              0.2222222222222222,
              "#7201a8"
             ],
             [
              0.3333333333333333,
              "#9c179e"
             ],
             [
              0.4444444444444444,
              "#bd3786"
             ],
             [
              0.5555555555555556,
              "#d8576b"
             ],
             [
              0.6666666666666666,
              "#ed7953"
             ],
             [
              0.7777777777777778,
              "#fb9f3a"
             ],
             [
              0.8888888888888888,
              "#fdca26"
             ],
             [
              1,
              "#f0f921"
             ]
            ],
            "type": "histogram2dcontour"
           }
          ],
          "mesh3d": [
           {
            "colorbar": {
             "outlinewidth": 0,
             "ticks": ""
            },
            "type": "mesh3d"
           }
          ],
          "parcoords": [
           {
            "line": {
             "colorbar": {
              "outlinewidth": 0,
              "ticks": ""
             }
            },
            "type": "parcoords"
           }
          ],
          "pie": [
           {
            "automargin": true,
            "type": "pie"
           }
          ],
          "scatter": [
           {
            "fillpattern": {
             "fillmode": "overlay",
             "size": 10,
             "solidity": 0.2
            },
            "type": "scatter"
           }
          ],
          "scatter3d": [
           {
            "line": {
             "colorbar": {
              "outlinewidth": 0,
              "ticks": ""
             }
            },
            "marker": {
             "colorbar": {
              "outlinewidth": 0,
              "ticks": ""
             }
            },
            "type": "scatter3d"
           }
          ],
          "scattercarpet": [
           {
            "marker": {
             "colorbar": {
              "outlinewidth": 0,
              "ticks": ""
             }
            },
            "type": "scattercarpet"
           }
          ],
          "scattergeo": [
           {
            "marker": {
             "colorbar": {
              "outlinewidth": 0,
              "ticks": ""
             }
            },
            "type": "scattergeo"
           }
          ],
          "scattergl": [
           {
            "marker": {
             "colorbar": {
              "outlinewidth": 0,
              "ticks": ""
             }
            },
            "type": "scattergl"
           }
          ],
          "scattermapbox": [
           {
            "marker": {
             "colorbar": {
              "outlinewidth": 0,
              "ticks": ""
             }
            },
            "type": "scattermapbox"
           }
          ],
          "scatterpolar": [
           {
            "marker": {
             "colorbar": {
              "outlinewidth": 0,
              "ticks": ""
             }
            },
            "type": "scatterpolar"
           }
          ],
          "scatterpolargl": [
           {
            "marker": {
             "colorbar": {
              "outlinewidth": 0,
              "ticks": ""
             }
            },
            "type": "scatterpolargl"
           }
          ],
          "scatterternary": [
           {
            "marker": {
             "colorbar": {
              "outlinewidth": 0,
              "ticks": ""
             }
            },
            "type": "scatterternary"
           }
          ],
          "surface": [
           {
            "colorbar": {
             "outlinewidth": 0,
             "ticks": ""
            },
            "colorscale": [
             [
              0,
              "#0d0887"
             ],
             [
              0.1111111111111111,
              "#46039f"
             ],
             [
              0.2222222222222222,
              "#7201a8"
             ],
             [
              0.3333333333333333,
              "#9c179e"
             ],
             [
              0.4444444444444444,
              "#bd3786"
             ],
             [
              0.5555555555555556,
              "#d8576b"
             ],
             [
              0.6666666666666666,
              "#ed7953"
             ],
             [
              0.7777777777777778,
              "#fb9f3a"
             ],
             [
              0.8888888888888888,
              "#fdca26"
             ],
             [
              1,
              "#f0f921"
             ]
            ],
            "type": "surface"
           }
          ],
          "table": [
           {
            "cells": {
             "fill": {
              "color": "#EBF0F8"
             },
             "line": {
              "color": "white"
             }
            },
            "header": {
             "fill": {
              "color": "#C8D4E3"
             },
             "line": {
              "color": "white"
             }
            },
            "type": "table"
           }
          ]
         },
         "layout": {
          "annotationdefaults": {
           "arrowcolor": "#2a3f5f",
           "arrowhead": 0,
           "arrowwidth": 1
          },
          "autotypenumbers": "strict",
          "coloraxis": {
           "colorbar": {
            "outlinewidth": 0,
            "ticks": ""
           }
          },
          "colorscale": {
           "diverging": [
            [
             0,
             "#8e0152"
            ],
            [
             0.1,
             "#c51b7d"
            ],
            [
             0.2,
             "#de77ae"
            ],
            [
             0.3,
             "#f1b6da"
            ],
            [
             0.4,
             "#fde0ef"
            ],
            [
             0.5,
             "#f7f7f7"
            ],
            [
             0.6,
             "#e6f5d0"
            ],
            [
             0.7,
             "#b8e186"
            ],
            [
             0.8,
             "#7fbc41"
            ],
            [
             0.9,
             "#4d9221"
            ],
            [
             1,
             "#276419"
            ]
           ],
           "sequential": [
            [
             0,
             "#0d0887"
            ],
            [
             0.1111111111111111,
             "#46039f"
            ],
            [
             0.2222222222222222,
             "#7201a8"
            ],
            [
             0.3333333333333333,
             "#9c179e"
            ],
            [
             0.4444444444444444,
             "#bd3786"
            ],
            [
             0.5555555555555556,
             "#d8576b"
            ],
            [
             0.6666666666666666,
             "#ed7953"
            ],
            [
             0.7777777777777778,
             "#fb9f3a"
            ],
            [
             0.8888888888888888,
             "#fdca26"
            ],
            [
             1,
             "#f0f921"
            ]
           ],
           "sequentialminus": [
            [
             0,
             "#0d0887"
            ],
            [
             0.1111111111111111,
             "#46039f"
            ],
            [
             0.2222222222222222,
             "#7201a8"
            ],
            [
             0.3333333333333333,
             "#9c179e"
            ],
            [
             0.4444444444444444,
             "#bd3786"
            ],
            [
             0.5555555555555556,
             "#d8576b"
            ],
            [
             0.6666666666666666,
             "#ed7953"
            ],
            [
             0.7777777777777778,
             "#fb9f3a"
            ],
            [
             0.8888888888888888,
             "#fdca26"
            ],
            [
             1,
             "#f0f921"
            ]
           ]
          },
          "colorway": [
           "#636efa",
           "#EF553B",
           "#00cc96",
           "#ab63fa",
           "#FFA15A",
           "#19d3f3",
           "#FF6692",
           "#B6E880",
           "#FF97FF",
           "#FECB52"
          ],
          "font": {
           "color": "#2a3f5f"
          },
          "geo": {
           "bgcolor": "white",
           "lakecolor": "white",
           "landcolor": "#E5ECF6",
           "showlakes": true,
           "showland": true,
           "subunitcolor": "white"
          },
          "hoverlabel": {
           "align": "left"
          },
          "hovermode": "closest",
          "mapbox": {
           "style": "light"
          },
          "paper_bgcolor": "white",
          "plot_bgcolor": "#E5ECF6",
          "polar": {
           "angularaxis": {
            "gridcolor": "white",
            "linecolor": "white",
            "ticks": ""
           },
           "bgcolor": "#E5ECF6",
           "radialaxis": {
            "gridcolor": "white",
            "linecolor": "white",
            "ticks": ""
           }
          },
          "scene": {
           "xaxis": {
            "backgroundcolor": "#E5ECF6",
            "gridcolor": "white",
            "gridwidth": 2,
            "linecolor": "white",
            "showbackground": true,
            "ticks": "",
            "zerolinecolor": "white"
           },
           "yaxis": {
            "backgroundcolor": "#E5ECF6",
            "gridcolor": "white",
            "gridwidth": 2,
            "linecolor": "white",
            "showbackground": true,
            "ticks": "",
            "zerolinecolor": "white"
           },
           "zaxis": {
            "backgroundcolor": "#E5ECF6",
            "gridcolor": "white",
            "gridwidth": 2,
            "linecolor": "white",
            "showbackground": true,
            "ticks": "",
            "zerolinecolor": "white"
           }
          },
          "shapedefaults": {
           "line": {
            "color": "#2a3f5f"
           }
          },
          "ternary": {
           "aaxis": {
            "gridcolor": "white",
            "linecolor": "white",
            "ticks": ""
           },
           "baxis": {
            "gridcolor": "white",
            "linecolor": "white",
            "ticks": ""
           },
           "bgcolor": "#E5ECF6",
           "caxis": {
            "gridcolor": "white",
            "linecolor": "white",
            "ticks": ""
           }
          },
          "title": {
           "x": 0.05
          },
          "xaxis": {
           "automargin": true,
           "gridcolor": "white",
           "linecolor": "white",
           "ticks": "",
           "title": {
            "standoff": 15
           },
           "zerolinecolor": "white",
           "zerolinewidth": 2
          },
          "yaxis": {
           "automargin": true,
           "gridcolor": "white",
           "linecolor": "white",
           "ticks": "",
           "title": {
            "standoff": 15
           },
           "zerolinecolor": "white",
           "zerolinewidth": 2
          }
         }
        },
        "title": {
         "text": "Gender Pay Gap Across Industries"
        },
        "xaxis": {
         "anchor": "y",
         "domain": [
          0,
          1
         ],
         "title": {
          "text": "Average Male Income"
         }
        },
        "yaxis": {
         "anchor": "x",
         "domain": [
          0,
          1
         ],
         "title": {
          "text": "Average Female Income"
         }
        }
       }
      }
     },
     "metadata": {},
     "output_type": "display_data"
    }
   ],
   "source": [
    "# Group the data by industry ('ind') and sex ('sex_1'), then calculate mean income ('incwage')\n",
    "industry_income = combined_df.groupBy('ind', 'sex_1').agg(F.mean('incwage').alias('mean_incwage'))\n",
    "\n",
    "# Pivot the DataFrame to reshape it\n",
    "industry_income_pivot = industry_income.groupBy('ind').pivot('sex_1', ['male', 'female']).agg(F.first('mean_incwage'))\n",
    "\n",
    "# Rename columns for clarity\n",
    "industry_income_pivot = industry_income_pivot.withColumnRenamed('Male', 'Male').withColumnRenamed('Female', 'Female')\n",
    "\n",
    "# Fill NaNs with median income for each group\n",
    "# Note: PySpark does not have a direct method for filling NaNs like Pandas, so you can use the following workaround:\n",
    "median_male = industry_income_pivot.select(F.expr('percentile_approx(male, 0.5)').alias('median')).collect()[0]['median']\n",
    "median_female = industry_income_pivot.select(F.expr('percentile_approx(female, 0.5)').alias('median')).collect()[0]['median']\n",
    "\n",
    "industry_income_pivot = industry_income_pivot.fillna({'Male': median_male, 'Female': median_female})\n",
    "\n",
    "# Calculate Income Difference\n",
    "industry_income_pivot = industry_income_pivot.withColumn('Income Difference', industry_income_pivot['Female'] - industry_income_pivot['Male'])\n",
    "industry_income_pivot = industry_income_pivot.withColumn('abs_diff', F.abs(industry_income_pivot['Income Difference']))\n",
    "\n",
    "# Check for remaining NaN values\n",
    "if industry_income_pivot.filter(F.isnan('abs_diff') | F.isnan('Income Difference')).count() > 0:\n",
    "    print(\"NaN values found in 'abs_diff' or 'Income Difference'. Filling with 0.\")\n",
    "    industry_income_pivot = industry_income_pivot.fillna({'Income Difference': 0})\n",
    "\n",
    "# Using Plotly as before\n",
    "import plotly.express as px\n",
    "\n",
    "# Create a scatter plot with Plotly\n",
    "fig = px.scatter(industry_income_pivot.toPandas(), x='Male', y='Female', \n",
    "                 size='abs_diff', color='Income Difference', \n",
    "                 hover_data=['ind', 'Male', 'Female', 'Income Difference'],\n",
    "                 title='Gender Pay Gap Across Industries',\n",
    "                 labels={'Male': 'Average Male Income', 'Female': 'Average Female Income'},\n",
    "                 color_continuous_scale='Viridis',\n",
    "                 size_max=100)\n",
    "\n",
    "# Add line for equal pay\n",
    "fig.add_shape(type='line', x0=0, y0=0, x1=industry_income_pivot.select(F.max('Male')).first()[0], \n",
    "              y1=industry_income_pivot.select(F.max('Female')).first()[0], \n",
    "              line=dict(color='gray', dash='dash'))\n",
    "\n",
    "# Show the interactive plot\n",
    "fig.show()"
   ]
  }
 ],
 "metadata": {
  "kernelspec": {
   "display_name": "Python 3 (ipykernel)",
   "language": "python",
   "name": "python3"
  },
  "language_info": {
   "codemirror_mode": {
    "name": "ipython",
    "version": 3
   },
   "file_extension": ".py",
   "mimetype": "text/x-python",
   "name": "python",
   "nbconvert_exporter": "python",
   "pygments_lexer": "ipython3",
   "version": "3.11.0"
  }
 },
 "nbformat": 4,
 "nbformat_minor": 5
}
