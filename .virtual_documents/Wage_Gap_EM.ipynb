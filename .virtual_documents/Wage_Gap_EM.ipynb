# Imports
import findspark
import matplotlib.pyplot as plt
from pyspark.sql.functions import avg, col
from pyspark.sql import functions as F
findspark.init()


from pyspark.sql.functions import concat, lit


# Start Spark session
from pyspark.sql import SparkSession
spark = SparkSession.builder.appName("sparkFunctions").getOrCreate()


from pyspark import SparkFiles
csv_file_paths = [
    "Resources/CurrentPopulationSurvey_1981.csv",
    "Resources/CurrentPopulationSurvey_1990.csv",
    "Resources/CurrentPopulationSurvey_1999.csv",
    "Resources/CurrentPopulationSurvey_2007.csv",
    "Resources/CurrentPopulationSurvey_2009.csv",
    "Resources/CurrentPopulationSurvey_2011.csv",
    "Resources/CurrentPopulationSurvey_2013.csv"]
dfs = [spark.read.csv(path, sep=",", header=True, ignoreLeadingWhiteSpace=True) for path in csv_file_paths]
combined_df = dfs[0]
for df in dfs [1:]:
    combined_df = combined_df.union(df)
# Show DataFrame
combined_df.show()


# Select columns for updated DF
updated_df = combined_df.select(
    'year',
    'state name',
    'region_1',
    'age',
    'sex_1',
    'race_1',
    'martial status',
    'occ',
    'incwage')

# Show updated DF
updated_df.show(truncate=False)


# Rename columns and update DF
updated_df = updated_df.withColumnRenamed('martial status', 'Marital Status')
updated_df = updated_df.withColumnRenamed('year', 'Year')
updated_df = updated_df.withColumnRenamed('state_name', 'State Name')
updated_df = updated_df.withColumnRenamed('region_1', 'Region')
updated_df = updated_df.withColumnRenamed('sex_1', 'Sex')
updated_df = updated_df.withColumnRenamed('race_1', 'Race')
updated_df = updated_df.withColumnRenamed('occ', 'Occupation Code')
updated_df = updated_df.withColumnRenamed('incwage', 'Wage')
updated_df = updated_df.withColumnRenamed('age','Age')

# Show updated DF
updated_df.show(truncate=False)


updated_df.dtypes


# Define age bins and labels
bins = [25, 30, 35, 40, 45, 50, 55, 60, 64]
labels = ['25-30', '30-35', '35-40', '40-45', '45-50', '50-55', '55-60', '60-64']

# Create age bins in updated DF
age_bins_df = updated_df.withColumn(
    'Age_Bin',
    F.when((F.col('Age') >= 25) & (F.col('Age') < 30), labels[0])
    .when((F.col('Age') >= 30) & (F.col('Age') < 35), labels[1])
    .when((F.col('Age') >= 35) & (F.col('Age') < 40), labels[2])
    .when((F.col('Age') >= 40) & (F.col('Age') < 45), labels[3])
    .when((F.col('Age') >= 45) & (F.col('Age') < 50), labels[4])
    .when((F.col('Age') >= 50) & (F.col('Age') < 55), labels[5])
    .when((F.col('Age') >= 55) & (F.col('Age') < 60), labels[6])
    .when((F.col('Age') >= 60) & (F.col('Age') <= 64), labels[7]))

# Show updated DF with the age bin
age_bins_df.show()


# Group the data by age and sex and calculate average wage
avg_wage_by_region = age_bins_df.groupBy('Age_Bin', 'Sex').agg(avg('Wage').alias('Average_Wage'))

# Convert to pandas DF
avg_wage_by_region_pd = avg_wage_by_region.toPandas().pivot(index='Age_Bin', columns='Sex', values='Average_Wage')

# Create plot
plt.figure(figsize=(12, 8))
avg_wage_by_region_pd.plot(kind='bar', color=['blue', 'pink'], edgecolor='black')

plt.title('Average Wage by Age Group and Gender')
plt.xlabel('Age Group')
plt.ylabel('Average Wage ($)')
plt.xticks(rotation=0)
plt.legend(title='Sex', labels=['Female', 'Male'])
plt.grid(axis='y', linestyle='--', alpha=0.7) 

# Save the plot
plt.savefig('Age Wage Comparison.png', dpi=300)

# Show plot
plt.tight_layout()
plt.show()


# Group data by region and sex and calculate average wage
avg_wage_by_region = updated_df.groupBy('Region', 'Sex').agg(avg('Wage').alias('Average_Wage'))

# Convert to pandas DF
avg_wage_by_region_pd = avg_wage_by_region.toPandas().pivot(index='Region', columns='Sex', values='Average_Wage')

# Create plot
plt.figure(figsize=(12, 8))
avg_wage_by_region_pd.plot(kind='bar', color=['blue', 'pink'], edgecolor='black')

plt.title('Average Wage by Gender in Each Region')
plt.xlabel('Region')
plt.ylabel('Average Wage ($)')
plt.xticks(rotation=0)
plt.legend(title='Sex', labels=['Female', 'Male'])
plt.grid(axis='y', linestyle='--', alpha=0.7) 

# Save the plot
plt.savefig('Region Wage Comparison.png', dpi=300)

# Show plot
plt.tight_layout()
plt.show()


# Format avg_wage_pd as currency
avg_wage_by_region_pd_formatted = avg_wage_pd.applymap(lambda x: f'${x:,.0f}')
avg_wage_by_region_pd_formatted


# Group the data by state and sex and calculate average wage
avg_wage_by_state1 = updated_df.groupBy('state name', 'Sex').agg(avg('Wage').alias('Average_Wage'))

# Convert to pandas DF
avg_wage_by_state_pd1 = avg_wage_by_state1.toPandas().pivot(index='state name', columns='Sex', values='Average_Wage')

# Sort by average wage for the top 25 states
top_states = avg_wage_by_state_pd1.mean(axis=1).nlargest(25).index
top_avg_wage_by_state_pd = avg_wage_by_state_pd1.loc[top_states]

# Create plot
plt.figure(figsize=(8, 12))
top_avg_wage_by_state_pd.plot(kind='bar', color=['blue', 'pink'], edgecolor='black')

plt.title('Average Wage by Gender in Each State')
plt.xlabel('State')
plt.ylabel('Average Wage ($)')
plt.xticks(rotation=90)
plt.legend(title='Sex', labels=['Female', 'Male'])
plt.grid(axis='y', linestyle='--', alpha=0.7)

# Save the plot
plt.savefig('State Wage Comparison p1.png', dpi=300)

# Show plot
plt.tight_layout()
plt.show()


# Group the data by state and sex and calculate average wage
avg_wage_by_state2 = updated_df.groupBy('state name', 'Sex').agg(avg('Wage').alias('Average_Wage'))

# Convert to pandas DF
avg_wage_by_state_pd2 = avg_wage_by_state2.toPandas().pivot(index='state name', columns='Sex', values='Average_Wage')

# Sort by average wage for the lowest 25 states
bottom_states = avg_wage_by_state_pd2.mean(axis=1).nsmallest(25).index
bottom_avg_wage_by_state_pd = avg_wage_by_state_pd2.loc[top_states]

# Create plot
plt.figure(figsize=(8, 12))
bottom_avg_wage_by_state_pd.plot(kind='bar', color=['blue', 'pink'], edgecolor='black')

plt.title('Average Wage by Gender in Each State')
plt.xlabel('State')
plt.ylabel('Average Wage ($)')
plt.xticks(rotation=90)
plt.legend(title='Sex', labels=['Female', 'Male'])
plt.grid(axis='y', linestyle='--', alpha=0.7)

# Save the plot
plt.savefig('State Wage Comparison P2.png', dpi=300) 

# Show plot
plt.tight_layout()
plt.show()


# Format as currency
avg_wage_by_state_pd_formatted = avg_wage_by_state_pd.applymap(lambda x: f'${x:,.0f}')

avg_wage_by_state_pd_formatted


occupation_counts_by_sex = updated_df.groupby(['Sex', 'Occupation Code']).count()
sorted_counts = occupation_counts_by_sex.orderBy('count', ascending=False)
sorted_counts.show()


# top 25 results
top_counts = sorted_counts.orderBy('count', ascending=False).limit(25)

# Convert to pandas DF
top_counts_pd = top_counts.toPandas()
top_counts_pd = top_counts_pd.sort_values(by='count', ascending=False)

top_counts_pd


# Create plot
plt.figure(figsize=(10, 6))
for sex in top_counts_pd['Sex'].unique():
    subset = top_counts_pd[top_counts_pd['Sex'] == sex]
    plt.bar(subset['Occupation Code'].astype(str), subset['count'], label=sex, color='blue' if sex == 'male' else 'pink')
    
plt.xlabel('Occupation Code')
plt.ylabel('Count')
plt.title('Top 25 Occupation Counts by Gender')
plt.xticks(rotation=45)
plt.legend(title='Gender')
plt.tight_layout()

# Show plot
plt.show()


sex_count = updated_df.groupby(['Sex']).count()
sex_count.show()


occupation_counts_overall = updated_df.groupby(['Occupation Code']).count()
sorted_counts = occupation_counts_overall.orderBy('count', ascending=False)
sorted_counts.show()


# Group the data by year and sex and calculate average wage
avg_wage_by_year = updated_df.groupBy('Year', 'Sex').agg(avg('Wage').alias('Average_Wage'))

# Convert to pandas DF
avg_wage_by_year_pd = avg_wage_by_year.toPandas().pivot(index='Year', columns='Sex', values='Average_Wage')

# Create plot
plt.figure(figsize=(12, 8))
avg_wage_by_year_pd.plot(kind='bar', color=['blue', 'pink'], edgecolor='black')

plt.title('Average Wage by Gender by Year')
plt.xlabel('Year')
plt.ylabel('Average Wage ($)')
plt.xticks(rotation=0)
plt.legend(title='Sex', labels=['Female', 'Male'])
plt.grid(axis='y', linestyle='--', alpha=0.7) 

# Save the plot
plt.savefig('Yearly Wage Comparison.png', dpi=300)  # Save with high resolution

# Show plot
plt.tight_layout()
plt.show()


# Group the data by marital status and sex and calculate average wage
avg_wage_by_marital = updated_df.groupBy('Marital Status', 'Sex').agg(avg('Wage').alias('Average_Wage'))

# Convert to pandas DF
avg_wage_by_marital_pd = avg_wage_by_marital.toPandas().pivot(index='Marital Status', columns='Sex', values='Average_Wage')

# Create plot
plt.figure(figsize=(12, 8))
avg_wage_by_marital_pd.plot(kind='bar', color=['blue', 'pink'], edgecolor='black')

plt.title('Average Wage by Gender and Marital Status')
plt.xlabel('Marital Status')
plt.ylabel('Average Wage ($)')
plt.xticks(rotation=45)
plt.legend(title='Sex', labels=['Female', 'Male'])
plt.grid(axis='y', linestyle='--', alpha=0.7) 

# Save the plot
plt.savefig('Marital Status Wage Comparison.png', dpi=300)

# Show plot
plt.tight_layout()
plt.show()


# Group data by occupation code and Sex and calculate average wage
avg_wage_by_occupation = updated_df.groupBy('Occupation Code', 'Sex').agg(avg('Wage').alias('Average_Wage'))

# Convert to pandas DataFrame for plotting
avg_wage_by_occupation_pd = avg_wage_by_occupation.toPandas().pivot(index='Occupation Code', columns='Sex', values='Average_Wage')

# Sort by average wage and get the top 20 occupations
top_occupation = avg_wage_by_occupation_pd.mean(axis=1).nlargest(20).index
top_avg_wage_by_occupation_pd = avg_wage_by_occupation_pd.loc[top_occupation]

# Create plot
plt.figure(figsize=(8, 12))
top_avg_wage_by_occupation_pd.plot(kind='bar', color=['blue', 'pink'], edgecolor='black')

plt.title('Top 20 Average Wages by Gender and Occupation Code')
plt.xlabel('Occupation Code')
plt.ylabel('Average Wage ($)')
plt.xticks(rotation=90)
plt.legend(title='Sex', labels=['Female', 'Male'])
plt.grid(axis='y', linestyle='--', alpha=0.7)

# Save plot
plt.savefig('Occupation Code Comparison.png', dpi=300)

# Show plot
plt.tight_layout()
plt.show()


# Group data by race and sex and calculate average wages
avg_wage_by_race = updated_df.groupBy('Race', 'Sex').agg(avg('Wage').alias('Average_Wage'))

# Convert to pandas DF
avg_wage_by_race_pd = avg_wage_by_race.toPandas().pivot(index='Race', columns='Sex', values='Average_Wage')

# Create plot
plt.figure(figsize=(12, 8))
avg_wage_by_race_pd.plot(kind='bar', color=['blue', 'pink'], edgecolor='black')

plt.title('Average Wage by Gender and Race')
plt.xlabel('Race')
plt.ylabel('Average Wage ($)')
plt.xticks(rotation=0)
plt.legend(title='Sex', labels=['Female', 'Male'])
plt.grid(axis='y', linestyle='--', alpha=0.7) 

# Save the plot
plt.savefig('Race and Gender Wage Comparison.png', dpi=300)

# Show plot
plt.tight_layout()
plt.show()


# Average wages by Year and Sex
avg_wage_by_gender_year = (updated_df.groupBy('Year', 'Sex').agg(F.avg('Wage').alias('Average_Wage')))


# Convert to pandas DF
avg_wage_by_gender_year_pd = avg_wage_by_gender_year.toPandas()

# Pivot DF
avg_wage_pivot = avg_wage_by_gender_year_pd.pivot(index='Year', columns='Sex', values='Average_Wage')

# Calculate wage gap
avg_wage_pivot['Wage_Gap'] = ((avg_wage_pivot['male'] - avg_wage_pivot['female']) / avg_wage_pivot['male']) * 100
avg_wage_pivot


# Plot Chart
plt.figure(figsize=(12, 6))
avg_wage_pivot[['male', 'female']].plot(kind='line', marker='o', ax=plt.gca())
plt.title('Average Wage by Gender Over Time')
plt.xlabel('Year')
plt.ylabel('Average Wage ($)')
plt.xticks(rotation=45)
plt.grid()
plt.legend(title='Gender')

# Save the plot
plt.savefig('Average Wage by Gender Comparison Over Time.png', dpi=300)

plt.tight_layout()
plt.show()


# Plot Chart
plt.figure(figsize=(12, 6))
avg_wage_pivot['Wage_Gap'].plot(kind='bar', color='orange')
plt.title('Percentage Difference Between Men vs Women Wages')
plt.xlabel('Year')
plt.ylabel('Wage Gap (%)')
plt.grid(axis='y')

# Save the plot
plt.savefig('Percentage Difference Between Men vs Women Wages.png', dpi=300)

plt.tight_layout()
plt.show()



